{
  "cells": [
    {
      "cell_type": "markdown",
      "metadata": {
        "id": "w7QKW6Y0c9fh"
      },
      "source": [
        "## Conjunto de datos"
      ]
    },
    {
      "cell_type": "code",
      "execution_count": 59,
      "metadata": {
        "id": "25cv5YF6dAuE"
      },
      "outputs": [
        {
          "ename": "IndentationError",
          "evalue": "unindent does not match any outer indentation level (<tokenize>, line 22)",
          "output_type": "error",
          "traceback": [
            "\u001b[0;36m  File \u001b[0;32m\"<tokenize>\"\u001b[0;36m, line \u001b[0;32m22\u001b[0m\n\u001b[0;31m    header=True,\u001b[0m\n\u001b[0m    ^\u001b[0m\n\u001b[0;31mIndentationError\u001b[0m\u001b[0;31m:\u001b[0m unindent does not match any outer indentation level\n"
          ]
        }
      ],
      "source": [
        "import pandas as pd\n",
        "import os\n",
        "from sklearn.compose import ColumnTransformer\n",
        "from sklearn.pipeline import Pipeline\n",
        "from sklearn.preprocessing import KBinsDiscretizer, OneHotEncoder\n",
        "from sklearn.model_selection import train_test_split\n",
        "from sklearn.metrics import classification_report\n",
        "\n",
        "# URL of where the training and testing samples are located\n",
        "URL_TRAIN_DATA = \"https://www.famaf.unc.edu.ar/~nocampo043/travel_insurance_prediction_train.csv\"\n",
        "URL_TEST_DATA = \"https://www.famaf.unc.edu.ar/~nocampo043/travel_insurance_prediction_test.csv\"\n",
        "\n",
        "train_df = pd.read_csv(URL_TRAIN_DATA)\n",
        "test_df = pd.read_csv(URL_TEST_DATA)\n",
        "\n",
        "def save_predictions(model, test_id, X_test, filename):\n",
        "    test_pred = model.predict(X_test)\n",
        "\n",
        "    submission = pd.DataFrame(list(zip(test_id, test_pred)),\n",
        "                              columns=[\"Customer\", \"TravelInsurance\"])\n",
        "    submission.to_csv(filename,\n",
        "                      header=True,\n",
        "                      index=False)"
      ]
    },
    {
      "cell_type": "code",
      "execution_count": null,
      "metadata": {
        "colab": {
          "base_uri": "https://localhost:8080/",
          "height": 756
        },
        "id": "zMq1gpradaDA",
        "outputId": "5ad0d452-a33c-4b02-ed42-3714f4396e24"
      },
      "outputs": [
        {
          "data": {
            "text/html": "<div>\n<style scoped>\n    .dataframe tbody tr th:only-of-type {\n        vertical-align: middle;\n    }\n\n    .dataframe tbody tr th {\n        vertical-align: top;\n    }\n\n    .dataframe thead th {\n        text-align: right;\n    }\n</style>\n<table border=\"1\" class=\"dataframe\">\n  <thead>\n    <tr style=\"text-align: right;\">\n      <th></th>\n      <th>Customer</th>\n      <th>Age</th>\n      <th>Employment Type</th>\n      <th>GraduateOrNot</th>\n      <th>AnnualIncome</th>\n      <th>FamilyMembers</th>\n      <th>ChronicDiseases</th>\n      <th>FrequentFlyer</th>\n      <th>EverTravelledAbroad</th>\n      <th>TravelInsurance</th>\n    </tr>\n  </thead>\n  <tbody>\n    <tr>\n      <th>0</th>\n      <td>1</td>\n      <td>33</td>\n      <td>Private Sector/Self Employed</td>\n      <td>Yes</td>\n      <td>550000</td>\n      <td>6</td>\n      <td>0</td>\n      <td>No</td>\n      <td>No</td>\n      <td>1</td>\n    </tr>\n    <tr>\n      <th>1</th>\n      <td>2</td>\n      <td>28</td>\n      <td>Private Sector/Self Employed</td>\n      <td>Yes</td>\n      <td>800000</td>\n      <td>7</td>\n      <td>0</td>\n      <td>Yes</td>\n      <td>No</td>\n      <td>0</td>\n    </tr>\n    <tr>\n      <th>2</th>\n      <td>3</td>\n      <td>31</td>\n      <td>Private Sector/Self Employed</td>\n      <td>Yes</td>\n      <td>1250000</td>\n      <td>4</td>\n      <td>0</td>\n      <td>No</td>\n      <td>No</td>\n      <td>0</td>\n    </tr>\n    <tr>\n      <th>3</th>\n      <td>4</td>\n      <td>31</td>\n      <td>Government Sector</td>\n      <td>No</td>\n      <td>300000</td>\n      <td>7</td>\n      <td>0</td>\n      <td>No</td>\n      <td>No</td>\n      <td>0</td>\n    </tr>\n    <tr>\n      <th>4</th>\n      <td>5</td>\n      <td>28</td>\n      <td>Private Sector/Self Employed</td>\n      <td>Yes</td>\n      <td>1250000</td>\n      <td>3</td>\n      <td>0</td>\n      <td>No</td>\n      <td>No</td>\n      <td>0</td>\n    </tr>\n    <tr>\n      <th>...</th>\n      <td>...</td>\n      <td>...</td>\n      <td>...</td>\n      <td>...</td>\n      <td>...</td>\n      <td>...</td>\n      <td>...</td>\n      <td>...</td>\n      <td>...</td>\n      <td>...</td>\n    </tr>\n    <tr>\n      <th>1485</th>\n      <td>1486</td>\n      <td>31</td>\n      <td>Government Sector</td>\n      <td>No</td>\n      <td>300000</td>\n      <td>5</td>\n      <td>0</td>\n      <td>No</td>\n      <td>No</td>\n      <td>0</td>\n    </tr>\n    <tr>\n      <th>1486</th>\n      <td>1487</td>\n      <td>31</td>\n      <td>Private Sector/Self Employed</td>\n      <td>Yes</td>\n      <td>950000</td>\n      <td>3</td>\n      <td>0</td>\n      <td>Yes</td>\n      <td>No</td>\n      <td>0</td>\n    </tr>\n    <tr>\n      <th>1487</th>\n      <td>1488</td>\n      <td>28</td>\n      <td>Private Sector/Self Employed</td>\n      <td>Yes</td>\n      <td>1250000</td>\n      <td>5</td>\n      <td>0</td>\n      <td>No</td>\n      <td>No</td>\n      <td>0</td>\n    </tr>\n    <tr>\n      <th>1488</th>\n      <td>1489</td>\n      <td>31</td>\n      <td>Government Sector</td>\n      <td>Yes</td>\n      <td>1300000</td>\n      <td>5</td>\n      <td>0</td>\n      <td>No</td>\n      <td>No</td>\n      <td>0</td>\n    </tr>\n    <tr>\n      <th>1489</th>\n      <td>1490</td>\n      <td>30</td>\n      <td>Private Sector/Self Employed</td>\n      <td>No</td>\n      <td>650000</td>\n      <td>4</td>\n      <td>0</td>\n      <td>No</td>\n      <td>No</td>\n      <td>0</td>\n    </tr>\n  </tbody>\n</table>\n<p>1490 rows × 10 columns</p>\n</div>",
            "text/plain": "      Customer  Age               Employment Type GraduateOrNot  AnnualIncome  \\\n0            1   33  Private Sector/Self Employed           Yes        550000   \n1            2   28  Private Sector/Self Employed           Yes        800000   \n2            3   31  Private Sector/Self Employed           Yes       1250000   \n3            4   31             Government Sector            No        300000   \n4            5   28  Private Sector/Self Employed           Yes       1250000   \n...        ...  ...                           ...           ...           ...   \n1485      1486   31             Government Sector            No        300000   \n1486      1487   31  Private Sector/Self Employed           Yes        950000   \n1487      1488   28  Private Sector/Self Employed           Yes       1250000   \n1488      1489   31             Government Sector           Yes       1300000   \n1489      1490   30  Private Sector/Self Employed            No        650000   \n\n      FamilyMembers  ChronicDiseases FrequentFlyer EverTravelledAbroad  \\\n0                 6                0            No                  No   \n1                 7                0           Yes                  No   \n2                 4                0            No                  No   \n3                 7                0            No                  No   \n4                 3                0            No                  No   \n...             ...              ...           ...                 ...   \n1485              5                0            No                  No   \n1486              3                0           Yes                  No   \n1487              5                0            No                  No   \n1488              5                0            No                  No   \n1489              4                0            No                  No   \n\n      TravelInsurance  \n0                   1  \n1                   0  \n2                   0  \n3                   0  \n4                   0  \n...               ...  \n1485                0  \n1486                0  \n1487                0  \n1488                0  \n1489                0  \n\n[1490 rows x 10 columns]"
          },
          "execution_count": 47,
          "metadata": {},
          "output_type": "execute_result"
        }
      ],
      "source": [
        "train_df"
      ]
    },
    {
      "cell_type": "code",
      "execution_count": null,
      "metadata": {
        "colab": {
          "base_uri": "https://localhost:8080/",
          "height": 424
        },
        "id": "kilOphhsdeRm",
        "outputId": "c02d1b23-0ffc-4e0d-9c6f-2bf0cf815b25"
      },
      "outputs": [
        {
          "data": {
            "text/html": "<div>\n<style scoped>\n    .dataframe tbody tr th:only-of-type {\n        vertical-align: middle;\n    }\n\n    .dataframe tbody tr th {\n        vertical-align: top;\n    }\n\n    .dataframe thead th {\n        text-align: right;\n    }\n</style>\n<table border=\"1\" class=\"dataframe\">\n  <thead>\n    <tr style=\"text-align: right;\">\n      <th></th>\n      <th>Customer</th>\n      <th>Age</th>\n      <th>Employment Type</th>\n      <th>GraduateOrNot</th>\n      <th>AnnualIncome</th>\n      <th>FamilyMembers</th>\n      <th>ChronicDiseases</th>\n      <th>FrequentFlyer</th>\n      <th>EverTravelledAbroad</th>\n    </tr>\n  </thead>\n  <tbody>\n    <tr>\n      <th>0</th>\n      <td>1491</td>\n      <td>29</td>\n      <td>Private Sector/Self Employed</td>\n      <td>Yes</td>\n      <td>1100000</td>\n      <td>4</td>\n      <td>0</td>\n      <td>No</td>\n      <td>No</td>\n    </tr>\n    <tr>\n      <th>1</th>\n      <td>1492</td>\n      <td>28</td>\n      <td>Private Sector/Self Employed</td>\n      <td>Yes</td>\n      <td>750000</td>\n      <td>5</td>\n      <td>1</td>\n      <td>Yes</td>\n      <td>No</td>\n    </tr>\n    <tr>\n      <th>2</th>\n      <td>1493</td>\n      <td>31</td>\n      <td>Government Sector</td>\n      <td>Yes</td>\n      <td>1500000</td>\n      <td>4</td>\n      <td>0</td>\n      <td>Yes</td>\n      <td>Yes</td>\n    </tr>\n    <tr>\n      <th>3</th>\n      <td>1494</td>\n      <td>28</td>\n      <td>Private Sector/Self Employed</td>\n      <td>Yes</td>\n      <td>1400000</td>\n      <td>3</td>\n      <td>0</td>\n      <td>No</td>\n      <td>Yes</td>\n    </tr>\n    <tr>\n      <th>4</th>\n      <td>1495</td>\n      <td>33</td>\n      <td>Private Sector/Self Employed</td>\n      <td>Yes</td>\n      <td>1500000</td>\n      <td>4</td>\n      <td>0</td>\n      <td>Yes</td>\n      <td>Yes</td>\n    </tr>\n    <tr>\n      <th>...</th>\n      <td>...</td>\n      <td>...</td>\n      <td>...</td>\n      <td>...</td>\n      <td>...</td>\n      <td>...</td>\n      <td>...</td>\n      <td>...</td>\n      <td>...</td>\n    </tr>\n    <tr>\n      <th>492</th>\n      <td>1983</td>\n      <td>33</td>\n      <td>Government Sector</td>\n      <td>Yes</td>\n      <td>1750000</td>\n      <td>6</td>\n      <td>0</td>\n      <td>No</td>\n      <td>No</td>\n    </tr>\n    <tr>\n      <th>493</th>\n      <td>1984</td>\n      <td>25</td>\n      <td>Private Sector/Self Employed</td>\n      <td>No</td>\n      <td>1150000</td>\n      <td>3</td>\n      <td>1</td>\n      <td>No</td>\n      <td>No</td>\n    </tr>\n    <tr>\n      <th>494</th>\n      <td>1985</td>\n      <td>29</td>\n      <td>Private Sector/Self Employed</td>\n      <td>Yes</td>\n      <td>1050000</td>\n      <td>5</td>\n      <td>0</td>\n      <td>No</td>\n      <td>No</td>\n    </tr>\n    <tr>\n      <th>495</th>\n      <td>1986</td>\n      <td>25</td>\n      <td>Government Sector</td>\n      <td>Yes</td>\n      <td>750000</td>\n      <td>2</td>\n      <td>0</td>\n      <td>No</td>\n      <td>Yes</td>\n    </tr>\n    <tr>\n      <th>496</th>\n      <td>1987</td>\n      <td>27</td>\n      <td>Government Sector</td>\n      <td>Yes</td>\n      <td>1050000</td>\n      <td>3</td>\n      <td>0</td>\n      <td>No</td>\n      <td>No</td>\n    </tr>\n  </tbody>\n</table>\n<p>497 rows × 9 columns</p>\n</div>",
            "text/plain": "     Customer  Age               Employment Type GraduateOrNot  AnnualIncome  \\\n0        1491   29  Private Sector/Self Employed           Yes       1100000   \n1        1492   28  Private Sector/Self Employed           Yes        750000   \n2        1493   31             Government Sector           Yes       1500000   \n3        1494   28  Private Sector/Self Employed           Yes       1400000   \n4        1495   33  Private Sector/Self Employed           Yes       1500000   \n..        ...  ...                           ...           ...           ...   \n492      1983   33             Government Sector           Yes       1750000   \n493      1984   25  Private Sector/Self Employed            No       1150000   \n494      1985   29  Private Sector/Self Employed           Yes       1050000   \n495      1986   25             Government Sector           Yes        750000   \n496      1987   27             Government Sector           Yes       1050000   \n\n     FamilyMembers  ChronicDiseases FrequentFlyer EverTravelledAbroad  \n0                4                0            No                  No  \n1                5                1           Yes                  No  \n2                4                0           Yes                 Yes  \n3                3                0            No                 Yes  \n4                4                0           Yes                 Yes  \n..             ...              ...           ...                 ...  \n492              6                0            No                  No  \n493              3                1            No                  No  \n494              5                0            No                  No  \n495              2                0            No                 Yes  \n496              3                0            No                  No  \n\n[497 rows x 9 columns]"
          },
          "execution_count": 48,
          "metadata": {},
          "output_type": "execute_result"
        }
      ],
      "source": [
        "test_df"
      ]
    },
    {
      "cell_type": "code",
      "execution_count": null,
      "metadata": {
        "id": "xyu6bcj9d9gg"
      },
      "outputs": [],
      "source": [
        "# Delete customer id and separate target labels from the features\n",
        "seed = 0\n",
        "X_train_total = train_df.drop([\"Customer\",\"TravelInsurance\"], axis=1)\n",
        "y_train_total = train_df[\"TravelInsurance\"]\n",
        "\n",
        "X_train, X_val, y_train, y_val = train_test_split(X_train_total,\n",
        "                                                  y_train_total,\n",
        "                                                  test_size=0.2,\n",
        "                                                  random_state=seed)\n",
        "\n",
        "X_test = test_df.drop([\"Customer\"], axis=1)"
      ]
    },
    {
      "cell_type": "code",
      "execution_count": null,
      "metadata": {
        "id": "hKICWxkBdflw"
      },
      "outputs": [
        {
          "name": "stderr",
          "output_type": "stream",
          "text": [
            "/home/benjamin/.local/lib/python3.8/site-packages/sklearn/preprocessing/_discretization.py:220: UserWarning: Bins whose width are too small (i.e., <= 1e-8) in feature 0 are removed. Consider decreasing the number of bins.\n",
            "  warnings.warn('Bins whose width are too small (i.e., <= '\n",
            "/home/benjamin/.local/lib/python3.8/site-packages/sklearn/preprocessing/_discretization.py:220: UserWarning: Bins whose width are too small (i.e., <= 1e-8) in feature 1 are removed. Consider decreasing the number of bins.\n",
            "  warnings.warn('Bins whose width are too small (i.e., <= '\n"
          ]
        }
      ],
      "source": [
        "# Define pipeline that discretizes columns Age and AnnaulIncome, and encode the\n",
        "# rest of variables using an ohe approach\n",
        "preprocessor = ColumnTransformer(\n",
        "    [(\"discretizer\",\n",
        "      KBinsDiscretizer(n_bins=16, encode=\"ordinal\",\n",
        "                       strategy=\"quantile\"), [\"Age\", \"AnnualIncome\"]),\n",
        "     (\"encoder\",\n",
        "      OneHotEncoder(categories=\"auto\", dtype=\"int\", handle_unknown=\"ignore\"), [\n",
        "          \"Employment Type\", \"GraduateOrNot\", \"FamilyMembers\", \"FrequentFlyer\",\n",
        "          \"EverTravelledAbroad\"\n",
        "      ])],\n",
        "    remainder=\"passthrough\")\n",
        "\n",
        "X_train = preprocessor.fit_transform(X_train)\n",
        "X_val = preprocessor.transform(X_val)\n",
        "X_test = preprocessor.transform(X_test)\n"
      ]
    },
    {
      "cell_type": "markdown",
      "metadata": {
        "id": "ETsZUOvWlTCZ"
      },
      "source": [
        "## Modelo no automatizado"
      ]
    },
    {
      "cell_type": "code",
      "execution_count": null,
      "metadata": {
        "colab": {
          "base_uri": "https://localhost:8080/"
        },
        "id": "ND0SlUZafeLm",
        "outputId": "4b8b5c78-33b6-403d-c6a4-0ebbfa9172bb"
      },
      "outputs": [
        {
          "name": "stdout",
          "output_type": "stream",
          "text": [
            "              precision    recall  f1-score   support\n",
            "\n",
            "           0       0.80      0.97      0.88       192\n",
            "           1       0.92      0.57      0.70       106\n",
            "\n",
            "    accuracy                           0.83       298\n",
            "   macro avg       0.86      0.77      0.79       298\n",
            "weighted avg       0.85      0.83      0.82       298\n",
            "\n"
          ]
        }
      ],
      "source": [
        "from xgboost import XGBClassifier\n",
        "\n",
        "parameters = {\n",
        "    'alpha': 0.6066724149261147,\n",
        "    'booster': 'gbtree',\n",
        "    'colsample_bytree': 1.0,\n",
        "    'eval_metric': 'logloss',\n",
        "    'gamma': 1.0,\n",
        "    'learning_rate': 1.0,\n",
        "    'max_depth': 4,\n",
        "    'n_estimators': 500,\n",
        "    'objective': 'binary:logistic',\n",
        "    'subsample': 1.0,\n",
        "    'use_label_encoder': False,\n",
        "}\n",
        "\n",
        "clf = XGBClassifier(**parameters)\n",
        "\n",
        "clf.fit(X_train, y_train)\n",
        "\n",
        "y_pred_val = clf.predict(X_val)\n",
        "y_pred_test = clf.predict(X_test)\n",
        "\n",
        "print(classification_report(y_val, y_pred_val))"
      ]
    },
    {
      "cell_type": "code",
      "execution_count": null,
      "metadata": {},
      "outputs": [
        {
          "data": {
            "text/plain": "array([[ 0., 10.,  0., ...,  1.,  0.,  0.],\n       [ 9.,  8.,  0., ...,  1.,  0.,  1.],\n       [ 6.,  1.,  1., ...,  1.,  0.,  0.],\n       ...,\n       [ 5.,  2.,  0., ...,  1.,  0.,  0.],\n       [ 2., 14.,  0., ...,  1.,  0.,  0.],\n       [ 1.,  3.,  0., ...,  1.,  0.,  0.]])"
          },
          "execution_count": 53,
          "metadata": {},
          "output_type": "execute_result"
        }
      ],
      "source": [
        "X_train"
      ]
    },
    {
      "cell_type": "code",
      "execution_count": null,
      "metadata": {},
      "outputs": [
        {
          "data": {
            "text/plain": "array([[ 4.,  9.,  0., ...,  1.,  0.,  0.],\n       [ 3.,  5.,  0., ...,  1.,  0.,  1.],\n       [ 6., 14.,  1., ...,  0.,  1.,  0.],\n       ...,\n       [ 4.,  8.,  0., ...,  1.,  0.,  0.],\n       [ 0.,  5.,  1., ...,  0.,  1.,  0.],\n       [ 2.,  8.,  1., ...,  1.,  0.,  0.]])"
          },
          "execution_count": 54,
          "metadata": {},
          "output_type": "execute_result"
        }
      ],
      "source": [
        "X_test"
      ]
    },
    {
      "cell_type": "code",
      "execution_count": null,
      "metadata": {
        "id": "MJ4FJry4iuMk"
      },
      "outputs": [
        {
          "ename": "ValueError",
          "evalue": "Feature shape mismatch, expected: 19, got 8",
          "output_type": "error",
          "traceback": [
            "\u001b[0;31m---------------------------------------------------------------------------\u001b[0m",
            "\u001b[0;31mValueError\u001b[0m                                Traceback (most recent call last)",
            "\u001b[0;32m<ipython-input-52-dd0988d4bc59>\u001b[0m in \u001b[0;36m<module>\u001b[0;34m\u001b[0m\n\u001b[0;32m----> 1\u001b[0;31m \u001b[0msave_predictions\u001b[0m\u001b[0;34m(\u001b[0m\u001b[0mclf\u001b[0m\u001b[0;34m,\u001b[0m \u001b[0;34m\"xgb_no_automl.csv\"\u001b[0m\u001b[0;34m)\u001b[0m\u001b[0;34m\u001b[0m\u001b[0;34m\u001b[0m\u001b[0m\n\u001b[0m",
            "\u001b[0;32m<ipython-input-46-0f09b9e4fc04>\u001b[0m in \u001b[0;36msave_predictions\u001b[0;34m(model, filename)\u001b[0m\n\u001b[1;32m     16\u001b[0m \u001b[0;32mdef\u001b[0m \u001b[0msave_predictions\u001b[0m\u001b[0;34m(\u001b[0m\u001b[0mmodel\u001b[0m\u001b[0;34m,\u001b[0m \u001b[0mfilename\u001b[0m\u001b[0;34m)\u001b[0m\u001b[0;34m:\u001b[0m\u001b[0;34m\u001b[0m\u001b[0;34m\u001b[0m\u001b[0m\n\u001b[1;32m     17\u001b[0m     \u001b[0mtest_id\u001b[0m \u001b[0;34m=\u001b[0m \u001b[0mtest_df\u001b[0m\u001b[0;34m[\u001b[0m\u001b[0;34m\"Customer\"\u001b[0m\u001b[0;34m]\u001b[0m\u001b[0;34m\u001b[0m\u001b[0;34m\u001b[0m\u001b[0m\n\u001b[0;32m---> 18\u001b[0;31m     \u001b[0mtest_pred\u001b[0m \u001b[0;34m=\u001b[0m \u001b[0mmodel\u001b[0m\u001b[0;34m.\u001b[0m\u001b[0mpredict\u001b[0m\u001b[0;34m(\u001b[0m\u001b[0mtest_df\u001b[0m\u001b[0;34m.\u001b[0m\u001b[0mdrop\u001b[0m\u001b[0;34m(\u001b[0m\u001b[0mcolumns\u001b[0m\u001b[0;34m=\u001b[0m\u001b[0;34m[\u001b[0m\u001b[0;34m\"Customer\"\u001b[0m\u001b[0;34m]\u001b[0m\u001b[0;34m)\u001b[0m\u001b[0;34m)\u001b[0m\u001b[0;34m\u001b[0m\u001b[0;34m\u001b[0m\u001b[0m\n\u001b[0m\u001b[1;32m     19\u001b[0m \u001b[0;34m\u001b[0m\u001b[0m\n\u001b[1;32m     20\u001b[0m     submission = pd.DataFrame(list(zip(test_id, test_pred)),\n",
            "\u001b[0;32m~/miniconda3/envs/auto-pytorch/lib/python3.8/site-packages/xgboost/sklearn.py\u001b[0m in \u001b[0;36mpredict\u001b[0;34m(self, X, output_margin, ntree_limit, validate_features, base_margin, iteration_range)\u001b[0m\n\u001b[1;32m   1282\u001b[0m         \u001b[0miteration_range\u001b[0m\u001b[0;34m:\u001b[0m \u001b[0mOptional\u001b[0m\u001b[0;34m[\u001b[0m\u001b[0mTuple\u001b[0m\u001b[0;34m[\u001b[0m\u001b[0mint\u001b[0m\u001b[0;34m,\u001b[0m \u001b[0mint\u001b[0m\u001b[0;34m]\u001b[0m\u001b[0;34m]\u001b[0m \u001b[0;34m=\u001b[0m \u001b[0;32mNone\u001b[0m\u001b[0;34m,\u001b[0m\u001b[0;34m\u001b[0m\u001b[0;34m\u001b[0m\u001b[0m\n\u001b[1;32m   1283\u001b[0m     ) -> np.ndarray:\n\u001b[0;32m-> 1284\u001b[0;31m         class_probs = super().predict(\n\u001b[0m\u001b[1;32m   1285\u001b[0m             \u001b[0mX\u001b[0m\u001b[0;34m=\u001b[0m\u001b[0mX\u001b[0m\u001b[0;34m,\u001b[0m\u001b[0;34m\u001b[0m\u001b[0;34m\u001b[0m\u001b[0m\n\u001b[1;32m   1286\u001b[0m             \u001b[0moutput_margin\u001b[0m\u001b[0;34m=\u001b[0m\u001b[0moutput_margin\u001b[0m\u001b[0;34m,\u001b[0m\u001b[0;34m\u001b[0m\u001b[0;34m\u001b[0m\u001b[0m\n",
            "\u001b[0;32m~/miniconda3/envs/auto-pytorch/lib/python3.8/site-packages/xgboost/sklearn.py\u001b[0m in \u001b[0;36mpredict\u001b[0;34m(self, X, output_margin, ntree_limit, validate_features, base_margin, iteration_range)\u001b[0m\n\u001b[1;32m    879\u001b[0m         \u001b[0;32mif\u001b[0m \u001b[0mself\u001b[0m\u001b[0;34m.\u001b[0m\u001b[0m_can_use_inplace_predict\u001b[0m\u001b[0;34m(\u001b[0m\u001b[0;34m)\u001b[0m\u001b[0;34m:\u001b[0m\u001b[0;34m\u001b[0m\u001b[0;34m\u001b[0m\u001b[0m\n\u001b[1;32m    880\u001b[0m             \u001b[0;32mtry\u001b[0m\u001b[0;34m:\u001b[0m\u001b[0;34m\u001b[0m\u001b[0;34m\u001b[0m\u001b[0m\n\u001b[0;32m--> 881\u001b[0;31m                 predts = self.get_booster().inplace_predict(\n\u001b[0m\u001b[1;32m    882\u001b[0m                     \u001b[0mdata\u001b[0m\u001b[0;34m=\u001b[0m\u001b[0mX\u001b[0m\u001b[0;34m,\u001b[0m\u001b[0;34m\u001b[0m\u001b[0;34m\u001b[0m\u001b[0m\n\u001b[1;32m    883\u001b[0m                     \u001b[0miteration_range\u001b[0m\u001b[0;34m=\u001b[0m\u001b[0miteration_range\u001b[0m\u001b[0;34m,\u001b[0m\u001b[0;34m\u001b[0m\u001b[0;34m\u001b[0m\u001b[0m\n",
            "\u001b[0;32m~/miniconda3/envs/auto-pytorch/lib/python3.8/site-packages/xgboost/core.py\u001b[0m in \u001b[0;36minplace_predict\u001b[0;34m(self, data, iteration_range, predict_type, missing, validate_features, base_margin, strict_shape)\u001b[0m\n\u001b[1;32m   2016\u001b[0m                 )\n\u001b[1;32m   2017\u001b[0m             \u001b[0;32mif\u001b[0m \u001b[0mlen\u001b[0m\u001b[0;34m(\u001b[0m\u001b[0mdata\u001b[0m\u001b[0;34m.\u001b[0m\u001b[0mshape\u001b[0m\u001b[0;34m)\u001b[0m \u001b[0;34m!=\u001b[0m \u001b[0;36m1\u001b[0m \u001b[0;32mand\u001b[0m \u001b[0mself\u001b[0m\u001b[0;34m.\u001b[0m\u001b[0mnum_features\u001b[0m\u001b[0;34m(\u001b[0m\u001b[0;34m)\u001b[0m \u001b[0;34m!=\u001b[0m \u001b[0mdata\u001b[0m\u001b[0;34m.\u001b[0m\u001b[0mshape\u001b[0m\u001b[0;34m[\u001b[0m\u001b[0;36m1\u001b[0m\u001b[0;34m]\u001b[0m\u001b[0;34m:\u001b[0m\u001b[0;34m\u001b[0m\u001b[0;34m\u001b[0m\u001b[0m\n\u001b[0;32m-> 2018\u001b[0;31m                 raise ValueError(\n\u001b[0m\u001b[1;32m   2019\u001b[0m                     \u001b[0;34mf\"Feature shape mismatch, expected: {self.num_features()}, \"\u001b[0m\u001b[0;34m\u001b[0m\u001b[0;34m\u001b[0m\u001b[0m\n\u001b[1;32m   2020\u001b[0m                     \u001b[0;34mf\"got {data.shape[1]}\"\u001b[0m\u001b[0;34m\u001b[0m\u001b[0;34m\u001b[0m\u001b[0m\n",
            "\u001b[0;31mValueError\u001b[0m: Feature shape mismatch, expected: 19, got 8"
          ]
        }
      ],
      "source": [
        "save_predictions(clf, test_df[\"Customer\"], X_test, \"xgb_no_automl.csv\")"
      ]
    },
    {
      "cell_type": "markdown",
      "metadata": {
        "id": "fRTrAwKemG7M"
      },
      "source": [
        "![xgb_no_automl_score.png](data:image/png;base64,iVBORw0KGgoAAAANSUhEUgAABKMAAAEHCAIAAAD9LRIZAAAAAXNSR0IArs4c6QAAAARnQU1BAACxjwv8YQUAAAAJcEhZcwAAEnQAABJ0Ad5mH3gAAF6+SURBVHhe7d0JXBNn/j/wkUA4QoRAJBgBuU+NoqiIrdartWJr0dYe1u5u9b+vbttf+/v9al//f//uYf9bt7+tdLd1a+t21W211mor9gC1IiggASRyBLnkCJeBYCCBEI5w/WcmE5JgOBRQGz/vZe3ceWbmeZ55vnlmJtM0HR0aTUdPT8/g4CABAAAAAAAAvzTTpk2zt7fncp2dORxmSsONG9O50x0c7Ml5+kkAAAAAAADwCzI4ONjd3dOuaXd0cHRz45FTpvX09NjY2OhnAwAAAAAAwC/UwMDATaVyllBIDpNRHsI8AAAAAACAXzwyuJvOnc4M6/8DAAAAAAAAv3QODvb6AUR6AAAAAAAAVmLo9SuI9AAAAAAAAKwNIj0AAAAAAABrg0gPAAAAAADA2iDSAwAAAAAAsDaI9AAAAAAAAKwNIj0AAAAAAABrg0gPAAAAAADA2iDSAwAAAAAAsDaI9AAAAAAAAKwNIj0AAAAAAABrg0gPAAAAAADA2iDSAwAAAAAAsDaI9AAAAAAAAKwNIj0AAAAAAABrg0gPAAAAAADA2iDSAwAAAAAAsDaI9OD+pmupkpbUa5ixOzQpGwEAAAAA+OWYukhPU37u4MGDpwua+5kJBv3NBafJOSlVVtXw7tWRhu/q/aufSm4vMzK5mvPJs3uhSsuMTlBL2YWLV8Q/59fomAl3YlI2AgAAAADwCzJ1kR43ZNESD6JFkl3SwkzRaynJlrQQHkvmB3CZKdag+dqRI0fSayYpvJly2pp0Mr3XmpnR+5h78MqHF8esEXmzmQl3YlI2AgAAAADwCzKVd2+6h0dHuhPNOflVXcwUguiqys9pJtwXRoe7M1MARuPgESIK93VlMaN3ZlI2AgAAAADwy8H64x//yAxOPhuOm3N3RVVFA+EZ5sUlm9m98ryfc5vt5q5cGeKib3Xr1DXSXLH4cpq4tEHV3u/An8G1o2cQhLLkTFpuq72Xl4thSld9zoVMaYsDNUk/rHObPVAlTr2UnNHntcCTwyzHaCk+c+lqq4PQo6dMnJKWLCm72WXPn+nmMKiuys28nJkqKWtsI9xmznAyBgA6VU1RrvgymZyyhlZ1v8MMY3JIxrlF1U3qfo6HgJpLp6S8UaPt6VG3NNRUtdLpY1ZhjJTagS55SW5Otjg1o7Ba2UGwXd1c7E2Db2r2lSxqtqyprcfOxd3VYSixo6xrOHQeXWXitIzL6fnXlR0sFwGf3lPqsBTUKzu6+7SqprqqCp1bkIeTfj1TlneWNPp5IQhtU155o6tfhNdgpfgCua8F1Tc1hJPxSHbVZydnFvW6+do1Xk1LvXSpqEY76DJT4MzSNRXRqS2qUWntZ3i52tOLD/s4415nVzS0am3dPNyMh+Q20jyOjGfx6AEAAAAA3OdsbKiwYEojPYKwdeFzWosqrrfZzQ70tFdKUzPqiIAVj4jc6Va1piYjMTG3ppM1K3CeL7frRknxtcomG09/Tw6VtI4baZJyJx+Rv9tQ61xZJi6q59CT9MN23W1Xips5fP50V+9gwbB4Rb8B+/7SwsY+R0fuoOZGXYVMx55WnVHYynZ0dB7saLwhK2vlBAby6aBCI8v4KYlOTtC82ZyuG6XFxSbJ0dWLT/+UU9PrHhQR4udm215dmFfa5hbg5zqt/UZNs1ZHRnp2DlxHu2lOAt9bIj2Lqe1tLvg5Ka1UTXj6zwtyIxqrpdcK5NO8AmfSn0c9z3guKa2kcYDjFxLkNniztqxE2mjjRSaHjDhGX1e/5+z+0vyaPicnak9v1FeVNdrNDiGPUdfNihvq3m4y0rPncMnY0MXr1khvxJ1lj3VeDJGeK7v2UrnGyzdIwFLLqypKK9tc/PzcqOPcpywXF9U52egKKlrtyNTpmuqqrzfa2HddzaqgUktOuFFfXT3gGSHkkjtj9nEtJWd+Si1VO3kFhQfM5vTWFeUXNNqQWcuJXPA20jyejDfC0QMAAAAAuM/dlUiPIOzcZnCai0vLtE5uveWZ19u9lj66yJMOrHT1knM5N1zmr39qjWi2QOgdGBbEURcUl6js9U1qKmKQu/qZRBS9quprNWoePUk/rGYHbti8ZmFo0C1hHokOOdTTZq9+6pH5IUFB4T4ON0tkVQ29wU9sXi4KCgoO93O6WVxXb8MP8ne3J7rrr57PuTF9/vq4NSIfgdAncE4Qp9WYnK76/NSy1pA1z6ycM0sgEM4OmuXQ2tpj4+rh6ebuFRTE05Gf5bX0iceWhN8S5pEspbalNCW1TBew8snYBf4CgZdfeKjnYENBXr397DB6djE5u81rSdz65aE+Qu+AcD+Xturi4ibH2WEeTmOsSx869cCsFXFrFoTSe8ptLa690crxEs3kOHkEBc2ybybTM2f1sw/Pt9ShN/LOcu3GOC+Gw97kOPfZ2GVBXoaUV1Q1EDNCvV1YRJ9KVlSj7pw+d0PskjlBQSHBM3qvV8nqWlyXbnpsURg5Icyzr7ziRgPHa4HQ2TwbKK+fl9S5LH7iycWBAnK3/YNn9N1s73bmz3JzsBl/mseV8UY6eswuAwAAAADcr/SRHvX/KcYNjIryIOrFF8T1hMeSRSHMi1h0ivrSLsIrPERoeE2GDTcwbL4j0SytN3+HyyjCIsM9R3/LhjAkwIO5686VLyD/nRXia3hEkOtGTajpoB4j1DXXl3QR3nOMySETHj6PTo6SmUAQKrXa8PpG9/A1jz88X+jIjI6HWWpb5NebiVlRUcYX07CFQeFCoqWykdr9lsbKZsJxvihc3/1J4vpGr1u/fomnU/9Y6+q5B/sN7QtX6OdLBnCtGuMTk2Ob0M7ODQ2keuRo3ACRyI3oKpYrjS8nDQzxZRLPdqPPS5CvN7N5Fs+dmqDWWk5sZ6taM6AfZHsvXr9mWYDJ83fjSPP4Mt6Ejx4AAAAAwL10FyI9gsWfGyWiGtzukSYvYlG3lJD/Cnimb+BkufDINn5Xi3q8TWon+6HIaQRs22FPV7FtbZkhM0xyXM2Sw6NCwS5lG5kcR+9wMl5tliQeOXbqTMaVkiq5WsfEG+NmmtoujbKVIFqLMs6eOTP0l1GkImO8XjIeImeTUYeAxzzOSGM5uguFQr4ja4x1GVzHWzvrxmniO+vLN3v9iau7F/mvpqtbP0qyH35e7IZPsIAfEB3o2FV58cThEz+miCXXa1q0Q/s77jSPL+NN4OgBAAAAANx7dyPSo0ImupeG60q9luUXiuUx/8mtT65cHC5w6KyTii+e+e7Idxk1d/ybgAP9VIzi6O4xy9t76M87RLR4yRJ3KiqmZ49grHUnbpJ3lmCNI4wbD27AI888+9jDc4O5REtJQfqF08e/OWP4xcbJTjMAAAAAwC/Y3Yn0LHHk+pL/dvaY/Zh1dyfVMnflGuOVgT5mgHS7fWi3w9GZTk63WXI6u+jkcAzJcfQIEMWsiX1668svxT0U4NhefkFab7bC+HG4ruS/XJ8Q0dy5w/58uNTRoWZrOo2dYBT69877x1p3koy+s2OcF4XG7KcFNSrqp/tYrEnIbmyud8iS5euf3LLjN88/Nt+jSy7JNP5i43hO0DgzHgAAAADAL9m9i/S4Ht5eBFFaImtnJlBvm6ypbCEc58+kb/Fkscj/1FTJDb0y/c2VxTXM8OTjCry9CaKkRGbsBOptll2nkiOcQQ63VElzMq4YwgYbtvssH6qbste0703XN0pH3HDuwnmORG1xFdMjRelvLsm5WlTeTH2I+8z5jkSLtEo+NLu/SfLjkSPfFpNhzRjrjlfvCOkdfWfHdV66imtMU15ecoMgvIQT7HHU1BdJMjOG4joWx9tnFvnfzv7BcZ4g2pgZDwAAAADgl+/eRXoEN3AB9aaWjJ9+llTVy+U1JRk/J+e3OAZGhwjpW/3chYEeBNGQ8WNShkQqEZ/7LrPVSUivOSWmB0Yu9KA+7rwhOeeTC1odA/TJseOyNZXl0vQL2eXkTHl9lSQru4ZwDPdn3vjhyCHjRLkkO6dIWtViOX4ahiUMjQ5wbJYk/5xBRkXkJq/n/JwsLipT2nOop/lYwhDqmTTpme9SCsj01BRn/JxS0EJ4RwWQB2WMdcfm4OhKpps8qleLSuS3PBQ5+s6O67wIBZqcpPQik5R7REUFTrDDketEyEvLxSkXiqidpracnU8QHiJv/tgnyMRYGQ8AAAAA4JfvHkZ61INV656KCXBQFlz8+cyZC+JyDV+05snlQy+UdJ+78rG5Mx27GssLrpSrXZesWew3vjjmzrA8ItfFLQ2wv2lIjpY/d82TK5nksL0Xx64U8TXXMsiZZ36+WKDmz10Zu8SHSRE3OOaxOUKirijnilSu1k8bCzdg5ZNr5rpryrMuUJtML9KQexy73Jd5kz83YPmTa0TehExCpudCVrnKIeThp9eETGdmjrruWFjCyHUxvtOby/NzxDLlLf2Ao+/seM4L22/hyhCiRJ9yuZ3vkg3r5vMnHEe5z123YUkAS5FD7TS55TpdwJInH51L98SNcYJMjZXxAAAAAAB+8ab19vYyg/dOP/XwGcGyZVt+jqtX188aYdaUYJLDZluKTAb66Xs0R55LptXwuwjj1avTDZKngm15xdE/cfR1x0LuKmF5u7SxPnrs80Ilb4TVJ0B/hiyna/Q0mxsj4wEAAAAA/ALZ0r82cF9EegAAAAAAADAp9JEe+jIAAAAAAACsDSI9AAAAAAAAa4NIDwAAAAAAwNog0gMAAAAAALA2iPQAAAAAAACsDSI9AAAAAAAAa4NIDwAAAAAAwNog0gMAAAAAALA2iPQAAAAAAACsDSI9AAAAAAAAa4NIDwAAAAAAwNog0gMAAAAAALA2iPQAAAAAAACsDSI9AAAAAAAAa4NIDwAAAAAAwNog0gMAAAAAALA2iPQAAAAAAACsDSI9AAAAAAAAa4NIDwAAAAAAwNog0gMAAAAAALA2iPQAAAAAAACszTSlsoUZBAAAAAAAgF84d3c38t9pg4OD+nEAAAAAAACwDrh7EwAAAAAAwNog0gMAAAAAALA2iPQAAAAAAACsDSI9AAAAAAAAa4NIDwAAAAAAwNog0gMAAAAAALA2iPQAAAAAAACsDSI9AAAAAAAAa4NIDwAAAAAAwNog0gMAAAAAALA2iPQAAAAAAACsDSI9AAAAAAAAa4NIDwAAAAAAwNog0gMAAAAAALA2iPQAAAAAAACsDSI9AAAAAAAAa4NIDwAAAAAAwNog0gMAAAAAALA2iPQAAAAAAACsDSI9AAAAAAAAa4NIDwAAAAAAwNog0gMAAAAAALA2iPQAAAAAAACsDSI9AAAAAAAAa4NIDwAAAAAAwNog0gMAAAAAALA2iPQAAAAAAACsDSI9AAAAAAAAa4NIDwAAAAAAwNog0gMAAAAAALA2iPQAAAAAAACsDSI9AAAAAAAAa4NIDwAAAAAAwNog0gMAAAAAALA2iPQA4N7p1+n1DzAT7gndzUrptTrNPU0DwD0woKm7Jq28qWNG78DEtwBWQ6esLCyu0zBjU01TXyytUCLnwZ3rNbRAmHHrNG1wcJAZnHTayuRjqTKPRRtjIwV2zDQ9Rd7nP0iIRU/9NtKDmQIAD5ZuhVScJq1UdzLjXJ95i6IXBLqa1xUjUOR//kOu/6oX1wQ6MVMmQin9JiG7nQh99NfLfdnUBLL2HyRYbDaLnk0jQ9J+YhqbPa7kWYZ6DyZMKT2VkN0Sse7Xy3zorErTlJ05nt5A+K16ca1JgeisTP4qVSZc/vyGUC4z6Ra6mvQvzpcR06M3PSfi01PojG6e980NW+DWLcBko6s7ZtiU36qtawM5zMi9MLxWVBYeT8jRECFrf73Cz5g9J8uwarlbln4kuYzgRsc9L5qhnwQwXv3qytysXGm94WsJJ9fAuSsemieY/Hx7H2Dt3r2bGZx0va3VRTK1Vt5i4xUsdDbtPdQ2Xi2XE7NCF868l5UUANwj3XWZ3yXlK+xmhi9YGDU/wt/TYbDpelm5TOvi5+dmzyw0Cm0TWYXw/ET+bhOIvIY48fgcB/fgYD++A92IUBQeOnGmjRca4DZU62urU4+evmTrtXCmMzPl9qHegwlzIrpLy+Vyrs/CWUM5UVufnylTE4R6us98L67hUtt/syL1uoIfETVfMPLXISyOi5sT1ys81MdZ336m8347L2zEkjV8gVu2AJOOru7cAyNFwb5eptzcBPx7edRvqRWdXD04DvzgkAC+w+TfLza8Wrad7uJO5rwI5Dy4bS3Sn77LqO5zCgxfvHDR3GAvN9sO+fWya43TvIJmmkUr1uFu7JEyLzm3wbq7RgHgNigrJMWdhN/KDeseEgV6C4W+odFrtmyY59RZkV3ZzCxzN7E9Q0Vz/MbXnQhwL/E9Asl/628q9aOkfpVSph+qUBinEkpFBdn09hO4M+OW2bn6zRGFek7gi+yJbwHGw8UnYp5IZPYXet91QDgIQudF+LnenciL5eobIQqxzk4YmEq6utJsBcGPXLN51ZJQP6HQJ1C0fMPG5d6EQiKVaZmFrMnU9+mFRkR0yq/V6GYE+7jYMnOGf7c90CkvvpItzkxJz7pe39re58jnc+2m0bNuFiemXWlle3l0l2ZeSP1ZUnqzy54vcHMYUFdKMjIup0jKGtUDbjM9nIxVi04tK7ySmZlx6XJxQ0efLcfdjYNvfADuI5obGeVyQcRikYcDM4UgbJx4wlmzfdy4Tk5sm6GC7zUUfnXWZSdnFCgdvLxd7Ax9ehFeA5WXk1POpxfKbmoGnIz1hn7hHrcAtvxK2oVLqVJZxyDPU+Bsq1MUZl66nHFJKmvV2nsIefb08spriamSVodZXi691Irlco22R6dqqZNVUhN7yxNTC+paNN29HerGusrrPW7BHkwvCVVz5WRlXtAngM3judibVDadcmlWWlrGpfwyZac9f6a9Kh99ejBBNg4D3QWVtbYzgwOY3u+blZfK5V6ieU6KhhaebxjTg9fecDW/VhO+4CGql0+nrpFeuZyRcSlTKmtUd9u5uPP03ddDJYXM0p212T+Ly+XtWl2PStkgu86UNSPLC5hsgVyGKUpC6oqdculnSdnNTjZ/ppvDoLqSSsAFSWmjmuDN9DC5KOtaZdIrmRmXL2WWNGh1thyem5OhqQC0UW9h6K7LTcnIr+l2my1w0n913yvP/zntan2v22wPJ7p+G72aMj3+rep+R74HV/8x5meWpiw+k3qlotctyKOTPNG31oq31tum7TFVe7/D0NbNW3eX9PWkhuXiyb+1wUanZFi1TOW8rJ8ziqjEUOm7/bYiMt6DqufmdalM5Tc/ZraLMa/ZT58x08vPw4XDddBnA2NgUljVqNaxXdxdmVqTMspcQ8HxHaiksmJ6H9PrbbqKUkPY89xd7O9O/+HUf4pzYPSaSH5ncXqWzPBAjrl+Zf6PXyWKZarpftFLov2clcXixIQ0w8KDOnmDXFOff/aSrJ3NFTro6gpTE3Ok0suJuY09rOlCdre8TJyQWm6411YjS084mSy5YesZEr3Ax74xN/X0ydTKu/WAMACMA8uOTxCKyut1nSYvQWFx+EKhkLnM6wt+Lz1Db1CnaZDLtSaP3w+oytITpCqe34IIPtkEoeoNQ1HXL9xSnn0uT9nv5OpBKMqzfziXX5x3NrminXByFRAKWWHyDxK5/maDfp1c3qDR3d4zy/2KgsSExEyZmuu3JDrQrV0mPnc8KV9hSLOmMjUhMbtMTfDDQ3wcFLmJacWtzCyAO8fmC/wJokahYoqCUkFeLb28IwJ9yFJQd5MpAZ3N9XKCiPDks4hO2cWTJ8/n3mDNClkSHeJB1EmST57JV+qzvr6kTOR9BOZb0Bcl8oqdKmunL9B10tTE7CJpWmKuQsfiCtk6eVnm6dSydv3ihKY6/dR3ybmNtrNCoyO97G9IUhO+wxX7djj4RAQ5qauzJRXMUVOW5eY2qPnBoXyqfTdWNaU//vWd030jRTMJZUlmYoLh+FvIG/06ckrDyNllWL3NtMfqOt0CqfaYspjcemKBgll9qHV3oazdxsmVzBu1xemnz0pb9LPHptOaJOY224rIeA8wWzb1FbOsskpt+joftivZABG66r997lXkn0lIFBcriVmiBX7Tu+tyz588m2fIukNz7X0ilwTy6bmn0mRM9tEXnKb8tB+zbxBcoZBFtWmYVfSRTiBfI8s8ezxxaINTbOr79IShi4IC3KbJr12r7DQ8g2Pap9ffIqtU6PgLH18fFSDwFHj5h7h1FJRf73YNCuaTy2qbrpbJ1dN812x8ZEFocHCoj8PN4uqqht6gJ55+ZH5wUHCEL+fmtdq6aR70F5y6utxz2Q1ui56KezjMSyD0CQwP5qjz8/P63CJm8/BtDcD9wcnNzaa5/npFqbSsqq2L6LdhOzg42Bm/LmMKPs9PFDD0Lba+PmG+2Ka/5FY3OYqe3/hQsBdV0v1c2quvVzQMeoT6uLCYhbtc5j6xIXoOWW+EzOi7Xlld2+Ias2ndkoggcsLM3uvXG+o5+sed6BqJ/jSOi1dQME9HjnrFPPl4dISXix3h5BEcPMteQW5w7prnly9gvuFuuZZyoVQXtGpj7MIAsuLyiwidOdCQf7XefnaYpxPRLcv5XtLoHrlh06ORfrO8fEPDPdXXsuRaAn16MEF2drrGa7XVzKN6Grn0isw2YuF8X6fu0vJyttdcqgDoH9Lzmxsd7NbTUFKvcQxY9eTyMC9PwazZwULb2tLrlXYz53tNtxm6TC+c6Wzn6hUcxOsj8753zMbHoiPMO/RIlhcw2QI5Rhcltc3sNXErF4SSF2j6il3Z0Bv85NMr5gUHB0f40VdsmxnBAe72RHed5OfsBt6ijRsfDvMWzPIJnBvMac3Pz+91m+vLM60PHmx0dcdxFXCmdWlM9Ntz6V4EOx6f3XxNWjVI3TnVU5l55poufPWaOfQBHKOaoo+/XcTapx9f5E9XU9428qJr1wZmULnI/MzS6JQQVB3mYbFWNKu39e0xl8gNcY+KZg+1x65dU9v7hlI9z/TC6gGvlZseXUi27si8Mb31Wk1DK8dLNOxxaDsL1TKd86QyFZUYOufdTlsRGe+BxnLhuWnryq9fLy6ouNnd3ddvb8+xt2eZ9HwpS1JSStU+Szc9uSLMx9DAuHatyZ6+aUI/12/F8xujA2d5evmFh84cbLh2rXqQH+rjamh+qOyDnnxmbVRYcDCV2elVdIGrNm5YSEY6zCpUQRy6C2Mq3Z2eQ5ZgbvQij87K7NxbvzJhzYhYvn7j8qChl4OxnahmkLyrWz9KEYYGMm/vtHHlC6gJIX6Gt3xN51ETajRUH6Cuqb6kk5i3SORhKKo23KBQEUGUyRV4Ey/AfcNOELl+08YVIh8HXWVhZmriya/+/dXJVKnCpNSPgygicKje4AaKRHyis1jO9FVQgkL9mPlsvjtVTwT6+jCVqp0r35P8j1pzpzflK+WVCkIYtdCYArYwNNyLUFbKldTtUrIygvCZEyo0PETC8ogQhTDDABPBneFDXv/0j+rpWhUy6mk8cgJfEEQQJfoCQD+k5+UtIC+mXL9lazasWyAYar/aO1F5VtPdox+dAsKQQMPH6a/YXiF+hscFuW7UBJn+iq2oL+4kRFEi49u5uUER8wiiXN6EK/YwDfnJieaqVcwsghu6OFrQWSwpkVXmZ8sIv+hI5s2so1dT+uPvs0jkZ7iLnqymVmzYsMF/OjM+Efr2mHe4sRIk22PhkU6EQlpvfJ6UH+w3NJ8r9PMjK89WOnPckXG2FZHxHnRcv+Wbnl+3JFRA1BXnpSefOv7FoePncirVTHe0Un5dQThFisL5hmqT67d43YYN0UIHsnpl5po0P9jC4HAfsvlRfcOYdcMjI4xPL9OreEUtMl9FyBTEKXd3Ij2qYSdatkhAxnoSS93j/Z3KmjKpJDP5TGLid1/9kMdMHmJvO+xLllsm6LW1UA+my3LPktsx/J2VUNM6e/voJQDg/mDjJAiJXvf0i9t//fymR5eL/Fnqyuwfvs+Vm96xOTp/vtmT/658IfmvptPYgLWj75owYT/yu+NvU6dGSVbQamm6sapJPJMmbSWIln7yUtDZLicXEvCGqnUSmy+gEggwUe4CPydC2ajWEP3KpmKCCKRfu8Lie0YQRKWihcyE1B2dfG8+k/8GdGp5ZXFhdjqZS78/fvwi8wKXKXPLBZpt+YrdrqKv2JKzJoXobC59xdaNvx54QPgu3/Jrc3OpyIXhHrFssUApSU4t6fRZHm346YUxqin98R9WTelvYRtqot45dQuZNYdtneVChVudyqEf1yG4jpPZozHOtiIyHhBsrs+85Ruf++32F7dsWBUdKuynbve9WEZFKGS5IWtRT55pA8P4dIlWTdWx5nOZ7xEqyDrZwMneWIj0G2yVphnzW2JiulRNhoC9xq+mp87divTIwzQjctlSQWdFarbhbnKGuuzc8a8SzkvKmjqdPHz85q9aPoeZc9sGCar6cOH7zPIx/vlFRC+J9p6OezcB7kcsNpdPvXvz+S0P+RDt+XlVFr4LGhfW8LhuSlENJcKJ72FS1czyCZ0bHb3EnWy59A9Y+laaNY7fjwAYG919Rz2qp6L67sKF+m+e2XyBH9F5o1XTqVIomY4+guiWZ//4xcnEVKlMSbj7+IRFr1viR02/D+iLCY9vVoj8wshC5D302g5g2NiyhzE7RCx7jj5kcuI6GuuZO6mmHgDIeDCE5eQqpN69uWXdPKfOmvTihn5ikC43k0i/QUe+wCS/+XiHipZER1MFccrdvUiPxJ+7ark3IbuYma9gphCEru5ael2nT/Tm57dsWLssShQRKOQZX8d3mxy51BVsRqD5m4ipv1CPSfiKCgAmg6auUCotrBsW0unvtpF3mjQ+Bk3qW5N3tzCaNGZbaFdR9cpdCvecuK7kv1yfsOFVjWieD5eaTVVFmk7TO4H6Na3Ul8YAE6bvvitWVCpudBJ+nnzm8sYReHsR8gZZZROZ0/QdfYSyIlva7BTx6K+ff2rD8iUiUYgf/755TFRfTNwDh5Ug8u/++/2A+5xWlpsjI/wjIjw6izPyDHdG3EE1Rf0aOvV76EPMK97buDlK3x7r7DHbencnVWm7cu9G83ZkyHgPNJ2ijGyBlA97pot5xIO6rZ1Dl5s207YIWRAMJcPiXF0PNeo7QsbWr8L1CR2e30Si2aZ93lPlrkZ65I6GPrTKj6irq2fGyXpDRz2Z42pyG5aGbq/dEa7A25sgyopN7xDVVOdnFxbXtU9yiA4Ad6xTnp2dk1/ZbFoqdfI6KhDym05XfCwWn3o31g1DUe5XVBQPj5M6i2XGH+rsV1wvkROEj5A/SW2Inr5b64xe41d9fGGkEyErrjB5d1avojgnV3/94LpR/SllpdXGqkgjKy5kBgEmiO6+I/IvZ8oJobfxJfhcvjefqM7OLjF29PX3KskrrDvza9OkfnXLWJdYnYW8b2bMBcaHvGL7EER5qdkVW5aXLb1Wp5mUD3hQ6OryMys7BdGRy6JjFvE7pdmFTL00RjVFH3/zaqoy9YsvvkinX35ux6YyVpls6I56TWVxOTNowqRWNKNvj5WUVBves0rV0rJKJeEUKTQ8O3fbLFXLtw8Z74HG6tcUZWfnFpt92TygqashmxhO/OlkrufPmu9EtEgrTRsYeT988cXJYurFsLfOJTS15cVk82O2YIS4jV6lpti0zdPfXJwtkZY1m8ebU+MuR3pkCQuMXhVo0hRz4nuSYbQ0N6esTk6SSS+cLe+541qAG7SQehowNSk5v5LanqwwOfFCrlSmc8JP6gHcL+hySihyvz957nKulOrfy0797mRinpLwWBTpR1cP7sJAD4KoT/8hMT23MDfz7MnMVqfhT7l5CTQ5iemFZFGXFaefTaZXjzI+8XznnDhkM0AuycqWFlYyL3hxcHIl00WmRCItllOtIJYwNDrISSFJPpteLCPrmvqy7J+TMwvLlXZcqk3tHhE9z0mf/uIaeV1lfnJSMSsIz+nBJKG77yjuPnyT12eQAaD+8jrU0cebEeFEZeZ8KpfK68qyzuY1jlJGnBzJ1nmDJDNLKjXkfXNjLnA7pgdFRlHPdCReyK+s1zcAEpMlUlmfk8kv5AKtKS/1TDJZ/9AVpv6vTN8r0d+Ql17SKVi8LMKdYHmIyJpHSQYtN6mTM0Y1RR9/82oqVUY4iULpXMT29A53IjqliaeSswul2aknf6jpp3o9htxSK5rT1/N16T+ey6XaY0wt7RQUHSq8k7NroVq+Y8h4DzKqVAQ6kZHCDydTc+iiJMk8d/J4ejXhFLQshGx4kEuEUUtIz5xMzjNpYHhHUc0S49zE9GtkqaqrzEtOvCijWi/+I1Wt+lUUuefP0qvI68qzz57PlJYp7Tl3oxP5rkd6VKy3iKx6mBGCcJ2zat1coeZa+jnqZVLZ8hkrVkTceVuN5RH5eNyyQFtFbiq1veQcBSsweuO6yKEX6ADAPUeV06dXibyJupL87Jzs7BxpZSvLZ96qLeuHiipftHqdSOjUKS/LzylXuUavXeI3/Ck3tt+i1SFEKVnUkzPL5Cz/SSvp3JBlZKVE1ErJhMnV9CSWcMHjy/ymK8rysjOrlXT7ihu4YuPaeXxNWSb1Tryz6dIOvmjVhhX++sqNJVxEzvVhycsyzyeey77BXbpqkTee04PJQnffkc1f5mk8A3dBIPUfY0cf2zt6XYwfqzaXfnNjurQ3dMVissU8Em7oQ2S5I+qKsrML5UPvdjQx5gK3hSVY8PimmEBWU27qWeqKnd3EClyy8fH5uGLfolMtb5AV55G15dBfPfXLdb2KvBxpp5NoUYT+oLGEc5ZRbcrMYiV14+UY1ZT++LPVdDWVmisjfBat3xLtpT/8bJ8l65aRjdd2mTQnWzYQsW65yCyzWagVzTDtMQdlPtUeI2tpDX/e2o0r7vDbOAvV8p1DxnugcQNXbdoQHUi9+psuSnnFdX2ugUs2bFrBfFNGLbFxLdlEkUn0DQw1O3T5ljWhTNZl5naWiclSdS5VQgYayzatjzS+yvVW+lXcNfQqiefSpBp3qiD63ZV76acNDt7erwVPlX76/lcWe7Lejaff3iRuEAAmH1NQRy6pvbp+Ftv0h25uRW1j2rD3E0yGgX7qs803S34WMSyp5GLUHUUj7AE9l2U7xi4ATC19Lh1/MRmz3I2jYN4OXLGn2OjVFHP8R5hrodYzM9Z8w9YnpRq0VC1PADLeg61Xp6NioJHPv36BkeaPPtci/SpT0WIZ2X0T6QEAAAAAAMAkwffMAAAAAAAA1gaRHgAAAAAAgLVBpAcAAAAAAGBtEOkBAAAAAABYG0R6AAAAAAAA1gaRHgAAAAAAgLVBpAcAAAAAAGBtEOkBAAAAAABYG0R6AAAAAAAA1gaRHgBYD12zVCJV6JgxAACrodPSdP3MOADoMWWjmxkFU9MGBweZwfuJKv39l/YSO//9zgo+M+WXrVur7bfjcNjM6KQq++aJt2t3HvnfK3jMBIAHliJ59459V2Mmp+ogLx29U1VsASZEJT35SfzRK6qYt4+8s/yXXfdTl7Bj2/b+tCWUmQAW6KqTPvyfA+JGeoQnitvxyovLvX/hdVPZySfePrp170/P4czDBHRXJ338lwOXFfQIT7Rx+ysvrvB2oMdMKdPe/028mBkxsy3+py0hqrS/vhR/mZlihs6idDXFTDDzEN38ntjGmeEpg0jvbpjSYAyRHsAQXYM4rd57xdJJaAPRtVAAGqBwn9HWpx/dtzdJJRJxpFJPRHoPgua097fHtz6x83fPRAnYOsXlQ7s/kYr+98c7H/pFn3pEejBxirS/7oi/Gbvz1WfpsiE+tHufdP47H/93zPCyoVNVl9V3MCMMXfnpd48Qb3z+p7UzdaqKsvouZjqju+z0n48Sbx780xqBtkFa1cpMNlCIP9snXrrn4Esi9sQ2zkyZMrh7EwCsB9srZu1khHkA96nypFcP1ot2Hzn4X496MpPAumkl3x8SL3xj529X+PM4HA7P/7E3/u9zvLTPE6W4Tx0ebNqrpw9djnrjrVcMZWPtG/9nC+/iAQtlg83zFw3jXJ8j4T0Tt2ImPTuImTrEuTFXwtsSt5yKxDhezMQhAd1V4oaobWtFVHtjYhufaqzdu3czg5Ot+kx8fIJiVlQY31Y/QVf9wwfx39a4RM4T2lOj9Vmnvvz47+/947vLVSrngAiXsi/fOyD3WxVMBuLdtZdPi4mYJxd0/3zgr+Qi316uaCI8Q4L51IqjUkkO/2W/3Hu1y/XD//h4/wf/+DG/XmnvG+E7ncUsQNLWixO+PHBg/0efJVFzvYN9XcfRMlRJk744/K9/fUAmprhO6zjT19uwVvVPu+IzXBYsEDrqx8llrxxm9oVOz/lrCmVjfVWeOPVit34HSdpa8fdfHtj/6UcHzubXkmkM9nVhtqeSHHxv/w2/hznSLz/+4O/xp8U3+33Cw/j22rKEA3/fv/+j78W1SudgkbczHacrrx1PbouJe8h36NPN9JPp/vLwvw7Qh0LeOz0gWGBckJr3xb8O/PUf34mL67tnzQnjU0loSI7fe7jB8+GIGSYHreL0ro+SBoJjAqYzEwAmZOQCZe72ioNpYWSGQ7pTP4v/6NOPTqSYZHJSRdKujy67REaalFum9gh2r076Q/yJq1WKtpr60py0i7XGxYZqj2+SR002xayMN/S6BJoWPoJoL0s6vP+jf3xIzlX2+swJa0/+Q/xl5wWRs5iFzIvnjGBybXw1B8T0h5+Ke3i2I9FZe/kHMbGMHrbIWPl/d7m4XjdzTtgMk7w6ek4ede7IF6+xCh1l+KXfue5kctG8R1+IYO7gGXaBHnb5fgBppT/+5dyMF19bZzzRLP4M2+JvT9sujjMcNXOjHsOh00ednXZHoZ/30OkjjT535EqJqahX80oPf7Jv/1//8WNerdLBN2K2i/GDu+vF3325bx/dolM7B4Q5N3ybLBU9+sIcw5kflq/CfF2Y1iOARVrpD++fE7zw2jpjA5g1w9O29OTpaYviDPlqJNorJ+ITXLb957PBXGaKmXbJiQ9Pubz0X88GOTNTzFQn/X1f2arX3nhIYLF6mtjGJ9kURno8b+fawx+eZ0c/GkqHNo2p+95NEb789pP+ZLWhK/tm139+Wuy5btvLz62OcLx+7l9iLbc9+YLzarq6pyO9DjtNyo83Q57Z8mzsAoFCcuLAN1WzlsX4cuitj0Rbce6fpztY7aeuuzy+MTY2RqiSfPXVj9rg1VF0eEl1mJ78439+3RLw+NMvxK2LcGvMOfqPr6u8YmJmj3a4dRUn/88rf8/hRW3avO3JR0JdalI++uSSY/SjYfSeKfI/+qpxkWms1V117kACvS8sRxeBt3N3qsR23cvPrF4Q4estoKpNXTmVCmXQ408/H/d4hJs8m0qFYe+6K5IPnNawtGly4bqnH3+Y33D+8OFsW8ebX6f2LH8ydnWMW0Pq8ePn+ufEzqNy2KiRniLto/9+L5UIXf/s9k1LfHqLT3x09LphZ1WX49/8f5fJVG575vGYUMfi7z74QjknNlLAmu6svfiv73rm6bdP00mTPjheE/PCs/o9BpiQ0QuUudsrDqaFkRpucNalXlLOjX16/eowVnXSsS8lHEONpCz46Ej9oicf9nWiP4dE1x7Oa8lyy3bkCwXs+svXAp7+jw0xEcG+Qp4juXXT2oNMdn3Gl/9I6V34CFnOmS2YIMvX67u+avOP3bTl6dgon67Co/84pjBWRM1p8f/5buq0iLit2+OW+HRLDnzd4MhKTlYuYRruivT4//7zZeeHn3n2udglAbZlCX/fl2G7YHmE4YszeFA5uTAt7zEiPZX4ozffFZPZedvT62JCHYpP7v1CGR4b6Unn1dFzMj13f5nno8+/8OyqiGFzR714jVXoLF36621qa+sMkZ6u+uQf/uPrlnkbX3j6ybWRnirxFx9mOa98JMBia+kBUXt5388dDz8bZ1Y9cntbjv9YNWf1w363NF1GPYamp4+qei9/+Y8LvUMVCz13f7Hw0RdeeHZ1xPC5o1ZKTEXdfrrMZd2TVNurNZ9qewU+GjWLzq9kpvo9lakef/FlMlM5V547kF1P1NTWGyI98qLwxze/Vs7d+MIzTz4a6dmeSaV69SMBd6MhDL9UDZf/ca5j+bNxTPWi59zbfPzH6nmrH/YdNfOMEapVn/v7vtJVr/1HjMXZYwRyE9v45BucSh05n23b8JdLCnKwNfPDbds+zGzVz6hJ3Llh2960Jv0YRX5+9wbSiVJ6rDXtL+TItsOFPfQopav0xFsbtv0zt4MZH8HNS9Sa/3PJuGkFNeUvafpP7in8ctuGN46UdtFjtKpTZFo+y21jRi1qLUz87HCmSXLrEn+/YdvJKv1I6XHqE5ldo9HpZ/aFNHyBnsIjZCq+KjXuXV9VArl3n+r3rvXS/5A7b5Kk+sT/a3406pLICcz2b/30IU3J5EHVH39G0zlyymf0xzRd2rNhw1dDaSQPxKUjyYWtfdQgteK2I8bPoxO8O9nkAABMwOgFytydFwdqmCztxcZ8XPrVGxu2GQpm2QmqdNzUj9Do2uNEGTM2rBQztcdbJ0xqD3qDbyRYSndHXcaJz06ZlPGu3M82bNiboU9aR+4/h2+q8PA2MrlMTUXXh39JNTlCrZlkZbrze4uHCB5IdHY1XNpuQV/4jhQzY6SqtCPnC/ULj56Tb71K0plTP3eMi9dYhY7K2KNd+geLj5hfszoKf0zIrBnjsm/lbq2pKPQV/LhJ/TRklGNIn76dx03rpdIj5Jk/xZz54Se3q/AQOUVf7YxRKdEVtdnnNlFTDLUx3ajYe0trxLgLpV9t2LDHpOXWVph4KrPuwT7zMJZSqmzcUgc2pQ67dltAhye7z8uZ0eHacqnZIzZ66UrvS5MIxdzENj75pvZmIM7iZ19ZWXrolERRcPpAgeiVl5hHJKsLzpf5x20yvT91ZkzsembQwD9uBX3/q55D6NonY1Q/SavGcWN67Moo46Y9QmOWEmI5/VoeXZnkW1XM5g2hJq/l8X/s2VhVkqRMy4xbwhPFvvKbGJPkCgTehKq6XsWM3h5dieSkKmbTY6HGvWP5P7olVnVGUjqUipUxoqH7JB2cnQkiLMD49JF3wDyCqFIomdERKKRpEt7WuBUezDhJsOadb77ZJqK+fGXbkQehoV4x9L5m/xXb1oh49BcMgvmPxKhOSkqYY60rK0xWRcVE3I37ieFBcNsF6o6Lg/8jy8KHFmSHRkYRqjELzgjo2iPuxadMag926KoNoupLhdXMuAmO90NbXtlkUsYdBN7zibQGuiLSlkp+Uq3dHGu6KdGKOH9mmCy6lyS8bXErTY4QL+bRzf5lqZY+CuBWdnZ2ZAWvv/DR/JdvWyuir8Cj52QLV0m2aOtn3/wllsyf47p4jVzo6Iy9YcMol347ex7RVNc0tC2O6Im4mNmj38lj5VQ365ghM2xipN6AkY8hffritpnVS6GPrhdVp9Fn/taT6yB6kTzzj1E107gqpfVro4ztDUHo4hjisoLOgnRrZP0Gs9bIQ7GxzCCFzeYRijrFUKqni2I3xXg/0GcexqJqtVw2xu4oqz5/MolgHqKzoPriiSRixIfotFfOny43PKFnwYQ2PhWm+rEPXsxLr4iy9r39t0uiHdtiDDfN6rqqCaGbaW8r1TDyFzGDjDBv8+PAEwSQ9YWqnRkdhZuLafVgUiG2q8hKJ0Aw/JPDyFCw1nhFtKy9viwr+XTC4X1/2LXr9R3v/sRMvgPadjoV5rcQc3zDYghxtZwZJRzZI+Sh8VOpCogwoflBZLE5zGvjeVGx20TF+3b85tV3PzuanFWtMP0dEn7UijXE6fwyOtTTlV09qVqzNmaEXAtwJ26rQN1xcRhWz7DGfNJ3ZHTtIf7q3V1kgof+PjldT1T39jKLDKNTVkvSk04fO/D+H3a9/dtXDxQw04kuLRnTerqZt2K8qIBVT6WSEhGCYdcB/6Aoorqq6c6+XoIHDS9qw0ui0o93vPT6uweOJYurFcYfYRs9J1u8ShquG+O6eI1c6CxlbPNLf9CKV9ZoT+56bsfOfYd/SpM2aPHOEd4MH2bIjI4Y6Vf1Rj6G9OkTH/2zyXn/w659P1FnnlzG4smlzjwd84+rUuI5m7W9jA1uS60RjnfAfGaQ5L/ilbVdVKrf/vhwUrq0vh1nHsbCc7NcNsb6wUk6VIvZvn6EUK1dcv5UWcyODSPMpgI53tZnRwrkJrbxKTH1D/g7uwl4KpWKJ+CbXznGxmbbMUNmBpj/Th4qFFT1j1atKC7v27H11b8cEyu6eN4rYp/974/3PMfMmjTUqVBNwd6NiB2yZc8nn/7ppaWC9rLTn72545kd7/9UbTgKnHlLY4kEsVRLBXqSBGLt4nn4cg0my90oUFPDOyAqKtLkb+HauN+87G/hNUW6sm937fjNmwd+rFI5CkRr47b/8eM3HmLm3SGqxdzbix9NhnFhhz6z57PP/rRtqUBVcvrAmzs2/+79pKEK/jZy8jhM5sVLEPPmp0fid8ZFEFVpR3f97rkduw5Lmpl5Dyg7O3+iqXX4d9yquiwiZljsxBj9GHoHmJ538m9V3Mu/8b/d9hljEislj5g3Pjmy9+24MKLq0le7Xt26Y9dBCRl6AoyMTZUN1fCvP1VyMfHQ8G8lTFSfP0aGanFLzb/UGFJ94WgSb1tctOUyoc1KPFwes2mNSde3mQltfIpMdaSnKzv12Uliy8tb2Sf/eaLM0GvEdvQn5K3mJ0dbXy1lBhlVihZmSE/b1srcknLHHDnk0W1tG7o/QE9Rd5mIGfYVppnqtM+TOc/tPfjJn17ZGhe3Jkbkzxt+jvuJ8X8BxXagUtExLBXNdeLRU3HbLJcBM9O9o9Zse+V/7/n0yDef/i5A/PmhNP0Ps5Kh3vyYLbwkSbFWWyA+TcQ9shCBHkyWcRSou2b8zVO69vBeGhu3KW7YX9St3+2pJIlHpGH/ffBg/Bsvb4qLXR4V6sVhD7WH6E01tZpXAQ1VhcyQxRqSUMirCMJr2DfuAKPgeEWt3frKO3QF/0qA+MC/06im8+g52fJVkjHBixebxbslY+sU8mGXfjYvZEXsb97YE3/wpyN/eqTj9LtJD/avCVC9/dXSavOop7pUQvCGd70aWT6G9Onzjtkw/LzHbaIeeLF8cg0mVimxCd4trRGdon7oNgc9Ni90eezLb+7Z+/lPR/7wSMcP7yYVPNBnHsbiFTCfqM6vGl42rhC82SOWDSpUqx45VGsXJ/67Ombz2hFmV5//Jtl/5EBuYhufKlMb6ekqvj/0jSruN8/Gbdq+jTh56Hv93YCE/9xHQqtPJ6SbnJ2GS0lnmEED6fkrps+kKCQXk4iF8wLGcTkZESdMtIZIumj2RZGuQJxMREWFjhz/k0GcivD0FhhPja5MeoUZJPEEMURWYZXxKzeFNOuW38rv0A3VWJxQ0VoiKfmKWSqkOcnEwqhQk7vY71C31tBz7T9vhX91auZQgE3SSU/u+sNhCZlUnUp64Wia8QBzvCOjRITUeHMsO3TeGl5Sllh8NYn3TNRdzpdg1cYoUHcJVW7FhVXGdo2iSDxquaVqj0tZVD+3UYMkKb1MdWtrpJ+6Dy7A9Bt3ZZk4ixkkNxW1npd8KsmkbGolaaeHiiNZQ/pXX8o0PChLU0jTxLxn5g09ywcwCp1SmnzMrIKPmi8iCui29ug52dJVUnFx364/J5Fbm+DFyytkLW9Yxm6Xii8ygyRtdVrST1JjQMATRc0nI0nVCNHHg4EdGvUMT/LTeZPqQiclqwv/uKgQZtzUKMeQPn2XxAVmh7P+SlJaCX3mLZxcRdrHu949Q+WjiVVKXqFreMNaI9oC8SVmkKStTk9KMk31/Kh55Ae0P9BnHsbCDl24hXc18bxJttQVXKLKxmLDz/Ebm8R6Y4Rq1RdOJPuP2qE3SiA3sY1PnSmN9KqT/nlUsf6NZ+ezydPx1G/iFMcOfV9Bnw//2O0veUv3vr3rk6OnE06f/nf8q/9P4f0EvZJRjKAqft9PZQqtVquqTvs8Pv5y6LatK0YJyMaBE/PEy6GX4+M/T6tWUdutzzr67t9OC0a+45bm7bWGEP+YKG6g1tE2S0/+9WiuSdeiIDQqikg+8NfDyVel0qtpJ//67qUus2cOvf1jiYLzpy9IpOUKav+nx2zYESr+W/yBdCYV4mPvxicItj0/wb0jiMbkd595bsdf6S9uycO8Zlus6uRf9p6U0ClXSE++H3+03j+KerkFW1V17mT8p0eNO3XwqNR/m8iPXpPCFj0U539h374zvA1L7uYdxWD1xihQd4lHaNRCIvmzvxwmC6ZUkvbN+++m6UzLLc8r1J+4dPoHsVRaTzc3qNpDcObd3Z8nlzVTCVeUJx/46N0TEoXu1uLB9yZXTkxK0i9JVmAH/p7YamwQcaI2v7K2/ejbb7x/mKwAE44e2P1mEvFIDDOXLLqPbluvOvk/75+UUvWftrks6eNd+6pXbF+Hkgjjwm6vOv9N/GdHxPV0ISMr/wPHpP5bRXQeHD0nD10l9XNV1ekH4v+WzF4cRa07sYsXW7ThlZXGjK1qEB/96+kOMgQdoiw98Xn8If11n/row0cTiJil+jfJPLDYonXbVwxdypur06hjTsRufdRyiDXKMaROnyDpz7sPXNDPVZRdOLDvzydylfSZHzq5+rn6dtcFdkwk/TkTqpTYovWv6HdBSmcqsun1lx86RCbP6bUWnzgQfyipnEl12hdHTxMxMeEP9pmHsbBFj27XVylXyapOUZ1ONemJ9duYsmHeJCY9gB16pCmM9BQ/Hz3cvOKVZ6L0t/2x5z/7xnrF0X9+T3+pQz1C8PGebQH9ZZJ8SVl32BvxL8cMf0IgYMOrOwNK4nc899xzL70ZL3F7+a+7twRN+Aj5x+35bGdY7aE3X6K2++pnWbxnPt793OhHnhPzm70vz0h7/3fUOs/tPNHx2Bvbo5h5lJlrd/55W8DN0/t279r18fmOpe+8vMrsZzw4i+P+tJEt/vjdXTuT9N2a/hv3fPp2WP1BJhUHsnjP/m33lpAJ750dh7rzhsdhPn561Cvx7zzSf/5dOuU7dp0nVr6z9yV9vewf90eTndq+63z/I+/s2mJ2IPznPUKWlhG+OAS4U2MVqLtEsPa/92zzV5wmC+aufec7Yt7Z8YhZufWPffO3YfVH3t+164BYf1czU3scfXs7lfAdO4/Wh+7c86rFNq5/7Ns7H2k5oV/ypf8Re29/Y4OQmUfxiHnj75++s46nyJdI8lVuj/3pnScCmFkUTtTvPtv7FPv8Lqr+e27726dVMe/E7zR9cx3AaPzjdv/1ZbfL779KFzJ95f9/nzFU8KPnZHLdv70ikOrnvvTmQangtx/vfMwwc0IXL17Mq3t2Ltcl0hn7pd+d1m58Y1uUsdhxFr+85+1HVN++Ted75qPfWP7AN/c9Vrzxl52PdCdSl/Ltb8ansR/5w95XFlt+pGL0Y8icviP6uTvePlIf9vaeNwyvAfTfuPvj3wqk+rkvvXlIKnjlbzvXMt+DT6xS4sfod2EXnalePaWNe3PbIpMzH/UbMmOoTuxkUk1/9Bsrxr4vFB5wghX6KmU3WdXteHNvGnvln/b+jok7hjeJH8gOPdK0wcFBZvBeK/vmibezXv74Y+OrxvV0Wm0vdboMx1aZ9v5v4m+5yYq0be9PWwz9tWOjN2u6XToBx5hhUzFvH3mHriWZVRw4I73CVafVsY3bu0W/Tts/bP6tqZiwfsLCy5e7tdr+EVJOzyJYzPu1AO6aMQvUXUKWW9YoadBpu9nDS8coBcrcbZRwumbj/eEbswYcWWl096J4wh0bo5SNmpNHzb0Tu3jRa49cgvQbn9xLo1Wgztc4j8oYx1B/BkabOdLciVVKo34uzjzcKTpbWqhSLDaJHzD3KNLrV0m+Oa1d+7Lx26D++qQ/v3pA8KdvhmLxkehU1WX1HcyIKV6AaEI/vqJtkFa1MsOmnIWh/nxUOgAwabS1ySeuCJ59hv5tS5r26uHf7S6Mu/W7LgAAAIA7cq/69BRpf3s7vsB77VOPxgTydM2FkovJyfWinbg9CQAeALryk7t2HlU9FPfs8igBW1UvFZ9OEPO27t0zxp3kAAAAAON1D+/e1NZnJZ0+U0g/KOnsHRnzyMoVoffg/lUAgHtBJU36Jkksp29Q4Ac88lBszELBRO5KAAAAADB1Hz2nBwAAAAAAAJNiqn85HQAAAAAAAO42RHoAAAAAAADWBpEeAAAAAACAtUGkBwAAAAAAYG0Q6QEAAAAAAFgbRHoAAAAAAADWBpEeAAAAAACAtUGkBwAAAAAAYG0Q6QEAAAAAAFgbRHoAAAAAAADWBpEeAAAAAACAtUGkBwAAAAAAYG0Q6QEAAAAAAFgbRHoAAAAAAADWZtrg4CAzOKlePbWYGQIAAAAAAAATn26+wgxNmSns07sLqQcAAAAAAIBb4e5NAAAAAAAAa4NIDwAAAAAAwNog0gMAAAAAALA2iPQAAAAAAACsDSI9AAAAAAAAa4NIDwAAAAAAwNog0gMAAAAAALA2iPQAAAAAAACsDSI9AAAAAAAAa4NIDwAAAAAAwNrcf5Fe30BvN/U3MMBMAAAAAAAAgNtyP0V62k7ZD7Upe6uS/079nftrjeSipqObmXnX9cm/rzjzfquaGR2Ljo5OmREAAAAAAIB76X6J9AZutOYcvlFaomMFuASu4oetcpsdQDRnN6V/oWhqY5a5n6lzyehU0aRhRgEAAAAAAO6h+yPS6+uu/rmlpcMh8LmAR7Z4BC/h+S1xj9gye/njXHtVe3G2tpdZDgAAAAAAAMbG2r17NzM4qZJK/xUb/r/If5nxUfWU3ZRc1U1fPnOeyG4aM400je1pb9eolpcMTp/P5drT07p1TTnK4vPN0p/blC26AUd7V1dDsKrVliU0V3XbC+27ys80Ff6gVrQPcr0dHewG1DnNheeapVc6NBqWy2w2/Rl9N1Pk164MTJ/D6shUFp5pLJJ0dvewOB5stq1+cwOaMnWT0sn7YUcHZkJfy1Vl2YWb+WdaGxW9hD17uhuL2hL9ufV1fd3d/R0KbVOxzt7PicOmVzFNbfsAi2vP5ZrsHwAAAAAAPJDIWIkZmjL3Q5/eQHt9B0E4zg53uCU1dt5PBaz9L4Enhx5r6yj6ojYvXdszY3rYMie7prbir+tysrqZp+MGBjplXS2KttJvW9v6WM6zCJVUKf62tTbzxtWiXsKZzSO6m7IbszI69cv3arpaZLrmzKaC0v7p4Txvp/769Mb0k61qHT17GF135Td1OckdHS7OYaumT1d3FJ+syck0fLRFTGq7WN4uVGrrWwq+qCkoQfckAAAAAABMufsh0uttu07+68jl6UfNsW3sHGxsqGQO3MxurlfZB77gu3wj32+5R9RvfeeG9bdculmr0C9Kqx7gPT97yXNeS17yWRTNIm60VHbwHtrhRU5Z+vIsf2eiR9zVzixKaqvt4C3fIYxYzp/70uyY5Q7k8qWFPcxME+2FN6/XEsKN3tRHL+HP3+G7ZJm9Kr2Z+mgOJ/Q5r7C55FKOgU+QH8SfQcWl+tQ6BL80O+ox96HUyn9obeqitwgAAAAAADBl7odIb5DoIP8d67bG7q7mvH4iwNVrtiHNNnazIt3sie7qapPYbM50Txf9kM10gSP5n1nBHP2NnwSbPd2b/I+u0/jeFMfgxc52zPA01yXu/gShKuo0CQX1elqKugk/fnC4YVnCxn2uqzvRc6POQlhI0ac22t1/lmG/yNTOI2PZ9pYbeEMnAAAAAABMrfsh0pvGEpD/DupHRtTSU0v+O4vtpB+l2bixyeCpR6Ezxltsuv/PhC17lBjSyawj0dZueghBKAaHh2La3jYFQdxUFX3TkDP0d1ZFxqftuhGSreppIv8tb8k1WSU3g4poe3SI9AAAAAAAYGrdD5GenfMs8l+tyvQmzCH636m7S8HRNPp43BK8DdCxH8ee58fxGPoLmO6/ih8mYOkXGW6AoIJPN3vj8uRfiEvYKv4Ml/vhmAMAAAAAgDW7H6IOG1e/6QTRc6P81hec6GoT6N+p0xKEs50nOaGj3+yVJp19neS/bnbM/Zm3rcfkTk5SX0cp+UHThh8Urp0z+a8rx4v6+Qfzv8Ch+znN6VPrOX348kt43rMQ6QEAAAAAwNS6L6IOO3/X4FlEe6Zces00jhtQZyqKZYR9tIsnlyBcHGYEEEReW5OKmU0Qg+pyTTvBCpx9p4Ee0VFbZrzxs7NEXU8Q9iIHKq4zY+8ewyLK1fIbxu6+gRvqsnRVvdlDd/39fcwQk9pCtdzkZ987y1rLctQ3VWPdpwoAAAAAADAx90f/kq194EZPoXO//KealIPy4nSV7KIi60CVOL2bmOW+cJkTnUq7WcvceYS26Cv59RJtS21H7dkbVzN77OfM8Jp9xz9S5+zY1JhzVt1Uq5VnNl75QdPjzA2br/84U9Pc588QOndfT7hRJOloqe28KVXmJtysLuyxm84sy+ZyCKLreopSlqNpp+I9OrUdmoLjjZVUajubchqvnG6pLh+wx0/qAQAAAADAFLs/Ij2SC3f+/5o9P5rDuqmtzVSWZreretnCVbNWv+jmqv8VcjKts9yifj1D6Nhd+YM85+vG4oI+l+iZS2O5pu9ouU32vms8eKrWvK/lBekd/bN5818QCJlXd5ojk/fSTH9BX31yY87XN3KTVF0CamGqs5HmJJqxaLEjUaEqTVW1tFBTmNTadl2nUnsjL7XLJpwf84zbdOaX2QEAAAAAAKbKtMHBKbmZ8NVTiz/dfIX8lxm/DYO93WSSptk5jNj3NdA90E8QLLb+d/buTJ/8e1lBqXvMO26uzAZH+0Qj3UDvABnG2dgZ4k8zA4O9fdOGzdKnlrC1sUOMBwAAAAAABEHGSszQlLlv+vSMyIjLZvSgy4ZaYCJh3nD0Bsd3UyX9S+6WwzySzfAwj6RPLcI8AAAAAAC4a+7DSA8AAAAAAAAm5IGN9Gyc/Plhq+xH6pwDAAAAAAD45XpwIz1XEc9vCWcCb3MBAAAAAAC4T+HuTQAAAAAAAGuDSA8AAAAAAMDaINIDAAAAAACwNoj0AAAAAAAArA0iPQAAAAAAAGuDSA8AAAAAAMDaINIDAAAAAACwNtMGBweZwUn16qnFn26+wowAAAAAAAAA7e7ESlMY6TFDAAAAAAAAYOIXHOkBAAAAAADAvYLn9AAAAAAAAKwNIj0AAAAAAABrg0gPAAAAAADA2iDSAwAAAAAAsDaI9AAAAAAAAKwNIj0AAAAAAABrg0gPAAAAAADA2iDSAwAAAAAAsDaI9AAAAAAAAKwNIj0AAAAAAABrg0gPAAAAAADA2iDSAwAAAAAAsDaI9AAAAAAAAKwNIj0AAAAAAABrg0gPGN0NVWfymruZsVsMtOVnV5QqB5hRAAAAAAC4j93NSK9mz96UzSkqZuweGtCp2zTdOmYMaM3HfqyJTSlPaGLGCa1GrTEeo+688gUZdeEX65jx+1dfd5tG3WMSkTYVb96bskfKjE1Q1rcp0z4vHjpIk4va+F5JFjN22ya4+mSgyvi0b2uYMQAAAAC4dx7IPr3miu2fX/mwjBkDmsfWx4QHowM2eTLjWWeu8I5XDIU0DgtCxCIP8UofZvz+1fDh51e2X25jxgAAAAAAHki4exMYDgFh2x8WOjBjt7BxWfrY3KV8ZBgAAAAAgF8A1u7du5nBKafOEKsaZ8581t+RIFRnjl55pd72V8HTmZkEkZ+Y9mJOz2Pz+M5Dw7M6/nk8/8WU6n8WKnlubnPd+kpT8l/5qey5zNqM0jZRgMdMh2nUmqUFq0/UzPB378vK//UPZS+KybktM/geQS4WwhJqy5c78voHi+rrf5TUFulcHvUh00MQOlXq2cKdZ8ufy5CdvNrUbeccM5OePlzToYNX364mng13tWWmEMRA3Yf7C/arHDYHkmkniDZ5wk9Fr5+//uvLsvNFSkcX17nubHq5oaR6BTkxEwhl+c7DxRVc38UzDHO92EWJks3nq16/YbM7wpVZjGE4bm6tH9JH5mPJjYq2aTH+LvojQRtQV5R9+P21Vy5Wv55VW1TbKfLhzzDOvmWuv8cMOnXG408n6VDrQIOuMz+v7sgVtWix50zTdOqNuZs+vI5LkheTrv+aOiOqYB+Bt5Mxleb6mvKk/+eH0tcvVv/PldqyxoHFAW7OLP0swy473Nh5nEo2ucv1Wrvl/lzj8Tdoupy98cebqX2DspuKs1frjjTTGazj5klpx8xAH29Z3tunSjeS55fMTq4mqSUN7QudebhclzDTuSYaSmSHup13LvSgz7RZtjlf1Nxtw1lsmm3MM5VaxxJ5c03OVFdpRuE73xuS5ObGa6w/pHbYvkzorZ8/ysYtZRUqbeTq84mMU3nPkhOzahtudAf5ztCfX9roeYMgmqv2f1f8nymVO7KGHQf9WbDZ2Ct7/XjxxowbwQGz55KHQCtP+KFo+7nr5PK5tZ0L/NmluapUV7db8i0AAAAA3G33rItG3dWX2tXHjNC6TaZQw9qW976pVfl6HXzYY/2AZuv3+R9+L9lew976sG/SHEdC3bLgWLFMv3QvuWKv+KJkc5XN1qW+Kcs8VvW3xX6b+WGxhUfx/CK8dkVywgliVZDXrhivrf4caupAy9dH8laX9y6Y45Oy2uf3M/v3p+TFfFtj6fUknqu8iNTaZnEPM07qzmuK7xpY4Evf+Kit2fNl6WsKYlOUb8pqr632XW99n701pYVekEmq2nS/+/pkXX3qXnqYmttzKLH491rHtxZ7HfQaCgeNqOOmatrzTW2pQHhwtW98AKv0WsWCf5cO3WbZLc1b/7081Yb33krflMU8XktT+MHMr+XMc2vdxfRcNj+enLuM70fO/bJIRs80Hn8ufyt5ZNwIwp7zWgx5lDz9yImm6SSNYzfPnJXsvOn02grfpPkcB7Uq5uuCfMvvcxmQpWRFprQ0unt8str3kIirktXMPCDJ0jKzqV1W1L1+SskL8jq42ust574P80p3XtYws024+gt3xfBWEUS4lyd5cndFuDAzCKKxSBIrJVYt8U2Jdo+hspPkUI0hNab7slK4yUb72vdX9ki7mLmjMM82r7v3fpiSZzwIPXV7DpBze/xCvVJW+77nTyRll65PbGDmEl1Z32aHZ7ephJ5J5FyfvkPfSz4xfYh19I2PmFW6PjleeqjbhTz7SfO5qjp5+CHjkRwrb0hivqx5r8tu+2L6OBCazd9f+bCcmUudBXnt9nNtDt6epxbw/ciQkzxuh0o31/XHzvchl1/frYw9Xp+nX3o4+f59KdP2jvSXtp8pyQAAAAAweQbvHtl7H1zYdKGVHm499s8LxEkZPcwQn7xA/PNa49DwB6nxZf302OBgx/XXPrhA7JdWGyZ0ZWURH6Qf0y9dmEuQc/95bWjuYL/y2L/o5Zlxc43XNn1w4b1CZoxUfe4StbUbxvUb0zM9TRNgqla6/oMLu3J7mNHBnpSvhz6LHv4oR9xBz6H05p1OJeIzk1roMSqphmTrmSaG3pGlJ2Vd9Jgl9HH7IHVXficzgTwUhblLh9LTXbkr/kLkNyZb6KmP//iC5+EyFTXSL/7mAvHZNeNhaan85FRJiZoaND3+pGGj5gdtPLtployu/JxIavURj+em80pmlHSz5LX4C0t/qKdH9LtscnbIk0tOMU2bGdNsRqNTbpY9Oq6/RR4lZvv0vnyca7IvneJvUomPruZZSqzpYaGyTbxZtqk+n058kHlKfxAUlZ98kXPKZG7JT+TyuXn6MXqvX7hgstcyagrxQa6YHhtj45ayCl1qLqw/a3Jgblx7gTySP92ghsfIG72NufmvfV1iUohufPKPC56naukR+iyYpcdSCs+S5Wh4uab1q3JyyFxKzb3lj9wLlXGrAAAAADA57uPHrhz5m0IMyePYzST/ncH1M0xw8OVuInSyZmaU9Nb8oKG5hI37C4tdPLWtqeN6C2BTakWfp6/3C0Lj+p4P++xkDxwrlzMTTPl4bXUh9pTXMj1+PfWpcmJ9gIDq+OqpPdNAbJoTtJTuKaTZRq4UvjbQdabEQh+UJbbbF/mO+LCcniN/+3zjLYIOooDXDenpLry5Z4C9c4XJFthe2xc4NilbxNQ7Smwc7MhEamVthu4st4DXNoWFGbu+xmdcu2mzdb4xGQ4ij/UEkXfTwotSZCWtZ2xcdq52Z8ZJ/LDtQTZZsuZ8Zpyc4rF+6OzYuC/1YxNtXbfVD/RauI8xe3D4C7hEvr4Dk96Xt6JFJvviuHQJf5WuLbWCGR8BlW1WRQSZZhu/5Z5vEV2p+oPgEfDarxZvMp3LtycGuvTdr/q9fn2lyV77+r7GZwbH3jjFYlZxfG2p4aU6JGHY6z5EVk0LeazGyhu2nlHzP3k+zKQQ8fxciCalxviiUU9Pk92hS42PWanxW+r5GjM8jI3r4qgzK7hLmVGjpb4BZzb7ug5tAwAAAAAmyX3cwmLbWHxObgTsBV7mD1Z5OMYQfU3tzNioupu6iBi3YeGOMMaTyG82aeYa8daHORLyFv0NnHQD2nH7Ig9qRKUjm9QLZvCo4SEu/Bgucap5nD8vYeM4RpxHR7zMkB7Pj/xArU5NEGpNL9nW9zNp6pNc/V02EV359G2DkdHC7X2a1Z9fjDl0ZX9KVWnrHf3WxLh203am6RG1IUY6m02aPoLraAwwaJE+HEKnlSmZUcLZ3vTBL8fbz7Yzp3OZoSFtWurk0vuSkJW1+pM049+PyhJioNvkBl1LqGxTUlpqtuK/GhIIorHHcHuuTlNaVH4oIW/nobTV+y76ZRhuo7S819ywmUPPHo5j4xazCtvB7LCT0Zcbm+jqIfd0zLxBUTVlZRR9mHBlB/lxfxfHDsv9bDuTD7RUalxcIkcstBaCPYR5AAAAAFPHihpZk7wrNtQGByw/WOYqcn+N0Cbkasi2vLhCS7jxVrkxsyyhNtXUb3lTd+J291S/fD/9rzDs4OvzxQvcY4iuYwU14YcyVh8t1z+nN2GTups2VKK7TR9onEphrtz1QpM/L5edAbzIcbxVZCaXY7ai0OW1AN56Dzpgk5fu+MeV8PPyBE3fTJ7baw8F5a+8Jdoc1WgbHwnLzlKqB8j/WWbMGwOyNLH/weJNklZZv21YkOeu9fNTJvk3NcyCPYR5AAAAAFPqLrazenqH92pNXuxDRlwlTeaba+uRETYO9szYqGwd2IRMa+xvobXIWgjChWPeBWLg4rfJi9hfIVe3yRLkxFtzA5jmtaPtTIJobDe/UXOgraSN2ORq0sqf4I63aM1vXNSoOgjCztaBIBzsWdQbG4fdI9mkTSDYfkN3Btq7L109P377CvFbKxof4qiaGvZLbrNnb5y7OT4O9jZEV08jM8aQKbrIhPrRHaVTi96XsLA5b21aMOxv/RhxDpVteF4+w9Yi/7bPpQ5Cfrb8kC1X/MrKpF8tfmvT3E0LvDxNYjQH8kQN32udrGUotB1j4yPq0srMuyIbtX1k2OxgM2beaPha0uXqEyD7rxWfPLPgrcdCVoXwRu1UpwL74aWmR1M6xots9MGey/YAhHkAAAAAU2vqmlotXx9ImXaswvj6ympNKkH4cfWPQ7n4uZCtzFbjyxi1NUmWnokbv0PFVSavyuzKKmjLZ7usCmLGb6XqHgpvhKtm2+TL5EOvKKTUyI9piF0BQmZ0OHZMENdT2XIqs2W/DXf9PMONoy7CVW7E/pI6016ybknTIcJ2fQj9RBbfcROhS60aipEGZEWtCczwuGmUqUPvjSTJ6w4pie2BQjLadA3nbSe6Dl0xvKGR0pVarCE4rkupXdHkpxTslxhvsPRc4L6KDKs0w6JcA92A5Xb7mLt5OyKDXCJ1bacKTD5qoCm1Qufp5R55p9lT3TvGnZdG9L4cK5apmXGarHx/Sk3TGNugsk3qdbnZC0Vbaw79XF5KH+DufjKM5PgZH//TZVUYj3OYD9dz2F63yhKMd0uOsfGR6buaDbQ1p2QDnkJe2Nh5g+r38+O7GO/P7KlLtXTvsoEnudawUqPOvXmMGRwFFewd3IQwDwAAAGBqTV1ry32pny0ZhGxNqCht1sjKi3+frMq3d9nKBEU2kQFkS1e1+WBeQl5VakbBjn/X59vRc+6Q7aou+Wb6s9RtzakJVzbVDbww389yqODpEsMmjuVJyY8uVZJNaZvI5cLX+jSbjkpSG8jVNbKigh2nmvN4ntsXmD/7Z8JhgXAnu2tHcVdkgHCVseeQu+kh3tK2pq3HivOplKhKM67EZmj9fGdv1XcQCWes5xCHruTt/LkiNa/i628zYysGyFjr9rjYpCZeOVTUTCa1qbz49e+aEuxdXltMd/W4hbwWYpNQIH09paGpTaNubko4cWWr3Oa9hwL1j/Y11rW8nnZtP72uurnh65MNHxLszRHmT9zRwmY6El3KD8l0FjXf8msTY+3mbQkLeo8/sCflyp48OlUNdfv/Xbyji/3hCr8xn1i0xD2ST6RerzmUXZXVMEYHE43aFz9lw/qjRVnM2S96/aeG92TarjEyJJ1telXrP5eckamocyGr2HOyake5Rk3nmjBPR6Kt+ZOMJupEUHky6/cmXXgOUUH7eca9bpKV//7rJpXLUK/fGBsfkSNbVZD3e/2HNlTtOVq1p4+9f2UAdSTHyBvuYW5EQnFFAv1x1Lr/rk0a6ecPKexVK4UvGEsNlQc2F/Svup2HawEAAABg6kzh9+p+a6PywtilsrrwL6/4/9j0tS036ekFkYagyCFqbqrI0UGj2pxSs/qKJuwh0e+HfpL7TtjErp+zXUV9Fu/zotUyYmv03GMrLAQwNK/XHnWP0baRH/26hH59p1vIJ78K2GnTtvo4ufoV/3MtjUKh+KWIYa8JMWND9bqQ/9kaYt7vF7IgdZNnTFvTAioleeFXtJ4hQWc2D73w0GP7Fp/3HPs+lNatTqk71O126jH+OB4HM8fzPrTc9uvzRWRSZ/7YdMbBPe9XQwfWJvLJ6JIFjqUF5TM/v8L7svg1uc3v1y/eJdI3wLnrt4Qd8xh47xy1Lu/L8reUtp+sX/CCpVtUXWNCkjxtTpHpPFdt+uOBjDF287Zw1/8qSuxncyiFTtXxig97uKeeWWryUsfbwl3/mNdbNtodGTUxaQ23xKiWMPvSHMOc/eZSnmfq86OefT1Dton9Lo86F9/VHbLhiV9YoH+Np+uyCHGA7dfZxdSJ+Lxoj9bz4HLTGy95m54nzwXxCb3XM7+Tq+fPec/0I0fd+IjYbu9t8uwupD/0eM0nfZxjT0VtYs7vGHlj08aAeAfNZvrjeCcaVHPmfEi98XZknmGHnvLc2qcvNXnh+QNvbQqPHT0QBQAAAIC7Zdrg4CAzOEUGdGpND2Hr6Mqx+CaJvm7NgAN3Ys1DqWTaz13Htj1MRSxajbrPxoHLcRg7TBjo1vQ4cM37IKjVCQdHrsM4UiQ7l+Zf6Vb9+lzzN2HqkRvXdg+MnJIebfc0zng+xZzq68/ztvICBp/xHePA6ufa2LtaPLY9WnX3wIhzTem61IP2rvYjHc2xdvO2kJ/V1TdyVrlNWm23422m6nbOvhn98XTgWDhQ+lmj7BS9wGgfOsrGR9TX3dbVPdL5HS1v6E/obR0E/Sq2ri7ozgMAAAC4j0xVpLfym7xL9WM8UTQpBt9ebRrpTdubwsyYGtTH6Wlrfn+wKj90btJjHlP9oXr0RxsjvbvzoQB3gGPH0vbqX/ZK8XVxkP12GTMCAAAAAHfF1Pfp3QWmfXp3QVvF74/Ks3r7Ulku4u1RY9xNN8lM+vQAAAAAAABGMPFb7u4Drtz4AFe/u3XvWHdzH0/IXR8kLPnVWA9NTT5bv9m8eC8nZgwAAAAAAMASq+jTAwAAAAAAABNW0acHAAAAAAAAJhDpAQAAAAAAWBtEegAAAAAAANYGkR4AAAAAAIC1QaQHAAAAAABgbRDpAQAAAAAAWBtEegAAAAAAANYGkR4AAAAAAIC1QaQHAAAAAABgbRDpAQAAAAAAWBtEegAAAAAAANYGkR4AAAAAAIC1QaQHAAAAAABgbRDpAQAAAAAAWBtEegAAAAAAANYGkR4AAAAAAIC1QaQHAAAAAABgbRDpAQAAAAAAWBtEegAAAAAAANYGkR4AAAAAAIC1QaQHAAAAAABgbRDpAQAAAAAAWBtEegAAAAAAANYGkR4AAAAAAIC1QaQHAAAAAABgbRDpAQAAAAAAWBtEegAAAAAAANYGkR4AAAAAAICVGBwc1A8g0gMAAAAAALASXV1d+gGbgYEB/RAAAAAAAAD8cg0ODqrVbfrhaUO9ewAAAAAAAGAdcPcmAAAAAACAtUGkBwAAAAAAYG0Q6QEAAAAAAFgbRHoAAAAAAADWBpEeAAAAAACAdSGI/w+UeGXHwjSRQAAAAABJRU5ErkJggg==)"
      ]
    },
    {
      "cell_type": "markdown",
      "metadata": {
        "id": "RzQBFD5aclef"
      },
      "source": [
        "## Modelo con AutoML\n",
        "\n"
      ]
    },
    {
      "cell_type": "code",
      "execution_count": null,
      "metadata": {
        "colab": {
          "base_uri": "https://localhost:8080/",
          "height": 381
        },
        "id": "60me9fVvoxiD",
        "outputId": "bba60f42-d3f3-47fc-fca4-07e759fc2721"
      },
      "outputs": [
        {
          "name": "stdout",
          "output_type": "stream",
          "text": [
            "[WARNING] [2021-12-05 10:50:09,455:Client-Validation] AutoPyTorch previously received features of type <class 'numpy.ndarray'> yet the current features have type <class 'pandas.core.frame.DataFrame'>. Changing the dtype of inputs to an estimator might cause problems\n",
            "[WARNING] [2021-12-05 10:50:09,455:Client-Validation] AutoPyTorch previously received features of type <class 'numpy.ndarray'> yet the current features have type <class 'pandas.core.frame.DataFrame'>. Changing the dtype of inputs to an estimator might cause problems\n",
            "[WARNING] [2021-12-05 10:50:09,495:Client-Validation] AutoPyTorch previously received features of type <class 'numpy.ndarray'> yet the current features have type <class 'pandas.core.frame.DataFrame'>. Changing the dtype of inputs to an estimator might cause problems\n",
            "[WARNING] [2021-12-05 10:50:09,495:Client-Validation] AutoPyTorch previously received features of type <class 'numpy.ndarray'> yet the current features have type <class 'pandas.core.frame.DataFrame'>. Changing the dtype of inputs to an estimator might cause problems\n"
          ]
        },
        {
          "name": "stderr",
          "output_type": "stream",
          "text": [
            "/home/benjamin/miniconda3/envs/auto-pytorch/lib/python3.8/site-packages/smac-0.14.0-py3.8.egg/smac/intensification/parallel_scheduling.py:149: UserWarning: Hyperband is intended to be used with more than 1 worker but num_workers=1\n",
            "  warnings.warn(\"{} is intended to be used \"\n",
            "/home/benjamin/miniconda3/envs/auto-pytorch/lib/python3.8/site-packages/smac-0.14.0-py3.8.egg/smac/intensification/parallel_scheduling.py:149: UserWarning: Hyperband is intended to be used with more than 1 worker but num_workers=1\n",
            "  warnings.warn(\"{} is intended to be used \"\n",
            "/home/benjamin/miniconda3/envs/auto-pytorch/lib/python3.8/site-packages/smac-0.14.0-py3.8.egg/smac/intensification/parallel_scheduling.py:149: UserWarning: Hyperband is intended to be used with more than 1 worker but num_workers=1\n",
            "  warnings.warn(\"{} is intended to be used \"\n",
            "/home/benjamin/miniconda3/envs/auto-pytorch/lib/python3.8/site-packages/smac-0.14.0-py3.8.egg/smac/intensification/parallel_scheduling.py:149: UserWarning: Hyperband is intended to be used with more than 1 worker but num_workers=1\n",
            "  warnings.warn(\"{} is intended to be used \"\n",
            "/home/benjamin/miniconda3/envs/auto-pytorch/lib/python3.8/site-packages/smac-0.14.0-py3.8.egg/smac/intensification/parallel_scheduling.py:149: UserWarning: Hyperband is intended to be used with more than 1 worker but num_workers=1\n",
            "  warnings.warn(\"{} is intended to be used \"\n",
            "/home/benjamin/miniconda3/envs/auto-pytorch/lib/python3.8/site-packages/smac-0.14.0-py3.8.egg/smac/intensification/parallel_scheduling.py:149: UserWarning: Hyperband is intended to be used with more than 1 worker but num_workers=1\n",
            "  warnings.warn(\"{} is intended to be used \"\n",
            "/home/benjamin/miniconda3/envs/auto-pytorch/lib/python3.8/site-packages/smac-0.14.0-py3.8.egg/smac/intensification/parallel_scheduling.py:149: UserWarning: Hyperband is intended to be used with more than 1 worker but num_workers=1\n",
            "  warnings.warn(\"{} is intended to be used \"\n",
            "/home/benjamin/miniconda3/envs/auto-pytorch/lib/python3.8/site-packages/smac-0.14.0-py3.8.egg/smac/intensification/parallel_scheduling.py:149: UserWarning: Hyperband is intended to be used with more than 1 worker but num_workers=1\n",
            "  warnings.warn(\"{} is intended to be used \"\n",
            "/home/benjamin/miniconda3/envs/auto-pytorch/lib/python3.8/site-packages/smac-0.14.0-py3.8.egg/smac/intensification/parallel_scheduling.py:149: UserWarning: Hyperband is intended to be used with more than 1 worker but num_workers=1\n",
            "  warnings.warn(\"{} is intended to be used \"\n",
            "/home/benjamin/miniconda3/envs/auto-pytorch/lib/python3.8/site-packages/smac-0.14.0-py3.8.egg/smac/intensification/parallel_scheduling.py:149: UserWarning: Hyperband is intended to be used with more than 1 worker but num_workers=1\n",
            "  warnings.warn(\"{} is intended to be used \"\n",
            "/home/benjamin/miniconda3/envs/auto-pytorch/lib/python3.8/site-packages/smac-0.14.0-py3.8.egg/smac/intensification/parallel_scheduling.py:149: UserWarning: Hyperband is intended to be used with more than 1 worker but num_workers=1\n",
            "  warnings.warn(\"{} is intended to be used \"\n",
            "/home/benjamin/miniconda3/envs/auto-pytorch/lib/python3.8/site-packages/smac-0.14.0-py3.8.egg/smac/intensification/parallel_scheduling.py:149: UserWarning: Hyperband is intended to be used with more than 1 worker but num_workers=1\n",
            "  warnings.warn(\"{} is intended to be used \"\n"
          ]
        },
        {
          "name": "stdout",
          "output_type": "stream",
          "text": [
            "{'f1': 0.6203208556149732}\n",
            "|    | Preprocessing                                                 | Estimator                                                       |   Weight |\n",
            "|---:|:--------------------------------------------------------------|:----------------------------------------------------------------|---------:|\n",
            "|  0 | SimpleImputer,NoEncoder,Normalizer,TruncSVD                   | no embedding,MLPBackbone,FullyConnectedHead,nn.Sequential       |     0.32 |\n",
            "|  1 | None                                                          | RFLearner                                                       |     0.2  |\n",
            "|  2 | SimpleImputer,NoEncoder,StandardScaler,Nystroem               | no embedding,MLPBackbone,FullyConnectedHead,nn.Sequential       |     0.14 |\n",
            "|  3 | SimpleImputer,NoEncoder,NoScaler,NoFeaturePreprocessing       | no embedding,MLPBackbone,FullyConnectedHead,nn.Sequential       |     0.08 |\n",
            "|  4 | SimpleImputer,NoEncoder,StandardScaler,NoFeaturePreprocessing | no embedding,ShapedMLPBackbone,FullyConnectedHead,nn.Sequential |     0.06 |\n",
            "|  5 | None                                                          | LGBMLearner                                                     |     0.04 |\n",
            "|  6 | None                                                          | CBLearner                                                       |     0.04 |\n",
            "|  7 | None                                                          | ETLearner                                                       |     0.04 |\n",
            "|  8 | SimpleImputer,NoEncoder,NoScaler,PolynomialFeatures           | no embedding,ShapedMLPBackbone,FullyConnectedHead,nn.Sequential |     0.02 |\n",
            "|  9 | None                                                          | SVMLearner                                                      |     0.02 |\n",
            "| 10 | SimpleImputer,NoEncoder,StandardScaler,NoFeaturePreprocessing | no embedding,ShapedMLPBackbone,FullyConnectedHead,nn.Sequential |     0.02 |\n",
            "| 11 | SimpleImputer,NoEncoder,StandardScaler,NoFeaturePreprocessing | no embedding,ShapedMLPBackbone,FullyConnectedHead,nn.Sequential |     0.02 |\n",
            "autoPyTorch results:\n",
            "\tDataset name: travel_insurance\n",
            "\tOptimisation Metric: f1\n",
            "\tBest validation score: 0.689922480620155\n",
            "\tNumber of target algorithm runs: 21\n",
            "\tNumber of successful target algorithm runs: 17\n",
            "\tNumber of crashed target algorithm runs: 2\n",
            "\tNumber of target algorithms that exceeded the time limit: 2\n",
            "\tNumber of target algorithms that exceeded the memory limit: 0\n",
            "\n"
          ]
        }
      ],
      "source": [
        "from autoPyTorch.api.tabular_classification import TabularClassificationTask\n",
        "\n",
        "api = TabularClassificationTask(\n",
        "    seed=42,\n",
        ")\n",
        "\n",
        "api.search(\n",
        "    X_train=X_train,\n",
        "    y_train=y_train,\n",
        "    X_test=X_val.copy(),\n",
        "    y_test=y_val.copy(),\n",
        "    dataset_name='travel_insurance',\n",
        "    optimize_metric='f1',\n",
        "    total_walltime_limit=300,\n",
        "    func_eval_time_limit_secs=50\n",
        ")\n",
        "\n",
        "y_pred = api.predict(X_val)\n",
        "score = api.score(y_pred, y_val)\n",
        "print(score)\n",
        "print(api.show_models())\n",
        "print(api.sprint_statistics())"
      ]
    },
    {
      "cell_type": "code",
      "execution_count": null,
      "metadata": {},
      "outputs": [
        {
          "name": "stdout",
          "output_type": "stream",
          "text": [
            "              precision    recall  f1-score   support\n",
            "\n",
            "           0       0.78      0.88      0.83       192\n",
            "           1       0.72      0.55      0.62       106\n",
            "\n",
            "    accuracy                           0.76       298\n",
            "   macro avg       0.75      0.71      0.72       298\n",
            "weighted avg       0.76      0.76      0.75       298\n",
            "\n"
          ]
        }
      ],
      "source": [
        "y_pred_val_automl = api.predict(X_val)\n",
        "print(classification_report(y_val, y_pred_val_automl))"
      ]
    },
    {
      "cell_type": "code",
      "execution_count": null,
      "metadata": {},
      "outputs": [
        {
          "ename": "ValueError",
          "evalue": "Changing the column order of the features after fit() is not supported. Fit() method was called with [0, 1, 2, 3, 4, 5, 6, 7, 8, 9, 10, 11, 12, 13, 14, 15, 16, 17, 18] whereas the new features have ['Age', 'Employment Type', 'GraduateOrNot', 'AnnualIncome', 'FamilyMembers', 'ChronicDiseases', 'FrequentFlyer', 'EverTravelledAbroad'] as type",
          "output_type": "error",
          "traceback": [
            "\u001b[0;31m---------------------------------------------------------------------------\u001b[0m",
            "\u001b[0;31mValueError\u001b[0m                                Traceback (most recent call last)",
            "\u001b[0;32m<ipython-input-32-8aba1b15ca5b>\u001b[0m in \u001b[0;36m<module>\u001b[0;34m\u001b[0m\n\u001b[0;32m----> 1\u001b[0;31m \u001b[0my_pred_test_automl\u001b[0m \u001b[0;34m=\u001b[0m \u001b[0mapi\u001b[0m\u001b[0;34m.\u001b[0m\u001b[0mpredict\u001b[0m\u001b[0;34m(\u001b[0m\u001b[0mX_test\u001b[0m\u001b[0;34m)\u001b[0m\u001b[0;34m\u001b[0m\u001b[0;34m\u001b[0m\u001b[0m\n\u001b[0m",
            "\u001b[0;32m~/miniconda3/envs/auto-pytorch/lib/python3.8/site-packages/autoPyTorch-0.1.1-py3.8.egg/autoPyTorch/api/tabular_classification.py\u001b[0m in \u001b[0;36mpredict\u001b[0;34m(self, X_test, batch_size, n_jobs)\u001b[0m\n\u001b[1;32m    336\u001b[0m                              \"the estimator fit() method.\")\n\u001b[1;32m    337\u001b[0m \u001b[0;34m\u001b[0m\u001b[0m\n\u001b[0;32m--> 338\u001b[0;31m         \u001b[0mX_test\u001b[0m \u001b[0;34m=\u001b[0m \u001b[0mself\u001b[0m\u001b[0;34m.\u001b[0m\u001b[0mInputValidator\u001b[0m\u001b[0;34m.\u001b[0m\u001b[0mfeature_validator\u001b[0m\u001b[0;34m.\u001b[0m\u001b[0mtransform\u001b[0m\u001b[0;34m(\u001b[0m\u001b[0mX_test\u001b[0m\u001b[0;34m)\u001b[0m\u001b[0;34m\u001b[0m\u001b[0;34m\u001b[0m\u001b[0m\n\u001b[0m\u001b[1;32m    339\u001b[0m         predicted_probabilities = super().predict(X_test, batch_size=batch_size,\n\u001b[1;32m    340\u001b[0m                                                   n_jobs=n_jobs)\n",
            "\u001b[0;32m~/miniconda3/envs/auto-pytorch/lib/python3.8/site-packages/autoPyTorch-0.1.1-py3.8.egg/autoPyTorch/data/tabular_feature_validator.py\u001b[0m in \u001b[0;36mtransform\u001b[0;34m(self, X)\u001b[0m\n\u001b[1;32m    241\u001b[0m \u001b[0;34m\u001b[0m\u001b[0m\n\u001b[1;32m    242\u001b[0m         \u001b[0;31m# Check the data here so we catch problems on new test data\u001b[0m\u001b[0;34m\u001b[0m\u001b[0;34m\u001b[0m\u001b[0;34m\u001b[0m\u001b[0m\n\u001b[0;32m--> 243\u001b[0;31m         \u001b[0mself\u001b[0m\u001b[0;34m.\u001b[0m\u001b[0m_check_data\u001b[0m\u001b[0;34m(\u001b[0m\u001b[0mX\u001b[0m\u001b[0;34m)\u001b[0m\u001b[0;34m\u001b[0m\u001b[0;34m\u001b[0m\u001b[0m\n\u001b[0m\u001b[1;32m    244\u001b[0m \u001b[0;34m\u001b[0m\u001b[0m\n\u001b[1;32m    245\u001b[0m         \u001b[0;31m# Pandas related transformations\u001b[0m\u001b[0;34m\u001b[0m\u001b[0;34m\u001b[0m\u001b[0;34m\u001b[0m\u001b[0m\n",
            "\u001b[0;32m~/miniconda3/envs/auto-pytorch/lib/python3.8/site-packages/autoPyTorch-0.1.1-py3.8.egg/autoPyTorch/data/tabular_feature_validator.py\u001b[0m in \u001b[0;36m_check_data\u001b[0;34m(self, X)\u001b[0m\n\u001b[1;32m    332\u001b[0m             \u001b[0;32mif\u001b[0m \u001b[0mlen\u001b[0m\u001b[0;34m(\u001b[0m\u001b[0mself\u001b[0m\u001b[0;34m.\u001b[0m\u001b[0mcolumn_order\u001b[0m\u001b[0;34m)\u001b[0m \u001b[0;34m>\u001b[0m \u001b[0;36m0\u001b[0m\u001b[0;34m:\u001b[0m\u001b[0;34m\u001b[0m\u001b[0;34m\u001b[0m\u001b[0m\n\u001b[1;32m    333\u001b[0m                 \u001b[0;32mif\u001b[0m \u001b[0mself\u001b[0m\u001b[0;34m.\u001b[0m\u001b[0mcolumn_order\u001b[0m \u001b[0;34m!=\u001b[0m \u001b[0mcolumn_order\u001b[0m\u001b[0;34m:\u001b[0m\u001b[0;34m\u001b[0m\u001b[0;34m\u001b[0m\u001b[0m\n\u001b[0;32m--> 334\u001b[0;31m                     raise ValueError(\"Changing the column order of the features after fit() is \"\n\u001b[0m\u001b[1;32m    335\u001b[0m                                      \u001b[0;34m\"not supported. Fit() method was called with \"\u001b[0m\u001b[0;34m\u001b[0m\u001b[0;34m\u001b[0m\u001b[0m\n\u001b[1;32m    336\u001b[0m                                      \"{} whereas the new features have {} as type\".format(self.column_order,\n",
            "\u001b[0;31mValueError\u001b[0m: Changing the column order of the features after fit() is not supported. Fit() method was called with [0, 1, 2, 3, 4, 5, 6, 7, 8, 9, 10, 11, 12, 13, 14, 15, 16, 17, 18] whereas the new features have ['Age', 'Employment Type', 'GraduateOrNot', 'AnnualIncome', 'FamilyMembers', 'ChronicDiseases', 'FrequentFlyer', 'EverTravelledAbroad'] as type"
          ]
        }
      ],
      "source": [
        "y_pred_test_automl = api.predict(X_test)"
      ]
    },
    {
      "cell_type": "code",
      "execution_count": null,
      "metadata": {},
      "outputs": [],
      "source": [
        "save_predictions(api, test_df[\"Customer\"], X_test, \"autopytorch.csv\")"
      ]
    }
  ],
  "metadata": {
    "colab": {
      "collapsed_sections": [],
      "name": "automl.ipynb",
      "provenance": []
    },
    "kernelspec": {
      "display_name": "Python 3.8.12 64-bit ('auto-pytorch': conda)",
      "name": "python3812jvsc74a57bd00d0edd02e105dc11063e0eefb7ff3c609df3d9473f7f2bd179b3b55de456a5da"
    },
    "language_info": {
      "codemirror_mode": {
        "name": "ipython",
        "version": 3
      },
      "file_extension": ".py",
      "mimetype": "text/x-python",
      "name": "python",
      "nbconvert_exporter": "python",
      "pygments_lexer": "ipython3",
      "version": "3.8.12"
    },
    "metadata": {
      "interpreter": {
        "hash": "0d0edd02e105dc11063e0eefb7ff3c609df3d9473f7f2bd179b3b55de456a5da"
      }
    }
  },
  "nbformat": 4,
  "nbformat_minor": 0
}