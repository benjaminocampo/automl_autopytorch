{
  "cells": [
    {
      "cell_type": "markdown",
      "metadata": {
        "id": "w7QKW6Y0c9fh"
      },
      "source": [
        "## Conjunto de datos"
      ]
    },
    {
      "cell_type": "code",
      "execution_count": 1,
      "metadata": {
        "id": "25cv5YF6dAuE"
      },
      "outputs": [],
      "source": [
        "import pandas as pd\n",
        "import os\n",
        "from sklearn.compose import ColumnTransformer\n",
        "from sklearn.pipeline import Pipeline\n",
        "from sklearn.preprocessing import KBinsDiscretizer, OneHotEncoder\n",
        "from sklearn.model_selection import train_test_split\n",
        "from sklearn.metrics import classification_report\n",
        "\n",
        "# URL of where the training and testing samples are located\n",
        "URL_TRAIN_DATA = \"https://www.famaf.unc.edu.ar/~nocampo043/travel_insurance_prediction_train.csv\"\n",
        "URL_TEST_DATA = \"https://www.famaf.unc.edu.ar/~nocampo043/travel_insurance_prediction_test.csv\"\n",
        "\n",
        "train_df = pd.read_csv(URL_TRAIN_DATA)\n",
        "test_df = pd.read_csv(URL_TEST_DATA)\n",
        "\n",
        "def save_predictions(model, test_id, X_test, filename):\n",
        "    test_pred = model.predict(X_test)\n",
        "\n",
        "    submission = pd.DataFrame(list(zip(test_id, test_pred)),\n",
        "                              columns=[\"Customer\", \"TravelInsurance\"])\n",
        "    submission.to_csv(filename,\n",
        "                      header=True,\n",
        "                      index=False)"
      ]
    },
    {
      "cell_type": "code",
      "execution_count": 2,
      "metadata": {
        "colab": {
          "base_uri": "https://localhost:8080/",
          "height": 756
        },
        "id": "zMq1gpradaDA",
        "outputId": "5ad0d452-a33c-4b02-ed42-3714f4396e24"
      },
      "outputs": [
        {
          "data": {
            "text/html": "<div>\n<style scoped>\n    .dataframe tbody tr th:only-of-type {\n        vertical-align: middle;\n    }\n\n    .dataframe tbody tr th {\n        vertical-align: top;\n    }\n\n    .dataframe thead th {\n        text-align: right;\n    }\n</style>\n<table border=\"1\" class=\"dataframe\">\n  <thead>\n    <tr style=\"text-align: right;\">\n      <th></th>\n      <th>Customer</th>\n      <th>Age</th>\n      <th>Employment Type</th>\n      <th>GraduateOrNot</th>\n      <th>AnnualIncome</th>\n      <th>FamilyMembers</th>\n      <th>ChronicDiseases</th>\n      <th>FrequentFlyer</th>\n      <th>EverTravelledAbroad</th>\n      <th>TravelInsurance</th>\n    </tr>\n  </thead>\n  <tbody>\n    <tr>\n      <th>0</th>\n      <td>1</td>\n      <td>33</td>\n      <td>Private Sector/Self Employed</td>\n      <td>Yes</td>\n      <td>550000</td>\n      <td>6</td>\n      <td>0</td>\n      <td>No</td>\n      <td>No</td>\n      <td>1</td>\n    </tr>\n    <tr>\n      <th>1</th>\n      <td>2</td>\n      <td>28</td>\n      <td>Private Sector/Self Employed</td>\n      <td>Yes</td>\n      <td>800000</td>\n      <td>7</td>\n      <td>0</td>\n      <td>Yes</td>\n      <td>No</td>\n      <td>0</td>\n    </tr>\n    <tr>\n      <th>2</th>\n      <td>3</td>\n      <td>31</td>\n      <td>Private Sector/Self Employed</td>\n      <td>Yes</td>\n      <td>1250000</td>\n      <td>4</td>\n      <td>0</td>\n      <td>No</td>\n      <td>No</td>\n      <td>0</td>\n    </tr>\n    <tr>\n      <th>3</th>\n      <td>4</td>\n      <td>31</td>\n      <td>Government Sector</td>\n      <td>No</td>\n      <td>300000</td>\n      <td>7</td>\n      <td>0</td>\n      <td>No</td>\n      <td>No</td>\n      <td>0</td>\n    </tr>\n    <tr>\n      <th>4</th>\n      <td>5</td>\n      <td>28</td>\n      <td>Private Sector/Self Employed</td>\n      <td>Yes</td>\n      <td>1250000</td>\n      <td>3</td>\n      <td>0</td>\n      <td>No</td>\n      <td>No</td>\n      <td>0</td>\n    </tr>\n    <tr>\n      <th>...</th>\n      <td>...</td>\n      <td>...</td>\n      <td>...</td>\n      <td>...</td>\n      <td>...</td>\n      <td>...</td>\n      <td>...</td>\n      <td>...</td>\n      <td>...</td>\n      <td>...</td>\n    </tr>\n    <tr>\n      <th>1485</th>\n      <td>1486</td>\n      <td>31</td>\n      <td>Government Sector</td>\n      <td>No</td>\n      <td>300000</td>\n      <td>5</td>\n      <td>0</td>\n      <td>No</td>\n      <td>No</td>\n      <td>0</td>\n    </tr>\n    <tr>\n      <th>1486</th>\n      <td>1487</td>\n      <td>31</td>\n      <td>Private Sector/Self Employed</td>\n      <td>Yes</td>\n      <td>950000</td>\n      <td>3</td>\n      <td>0</td>\n      <td>Yes</td>\n      <td>No</td>\n      <td>0</td>\n    </tr>\n    <tr>\n      <th>1487</th>\n      <td>1488</td>\n      <td>28</td>\n      <td>Private Sector/Self Employed</td>\n      <td>Yes</td>\n      <td>1250000</td>\n      <td>5</td>\n      <td>0</td>\n      <td>No</td>\n      <td>No</td>\n      <td>0</td>\n    </tr>\n    <tr>\n      <th>1488</th>\n      <td>1489</td>\n      <td>31</td>\n      <td>Government Sector</td>\n      <td>Yes</td>\n      <td>1300000</td>\n      <td>5</td>\n      <td>0</td>\n      <td>No</td>\n      <td>No</td>\n      <td>0</td>\n    </tr>\n    <tr>\n      <th>1489</th>\n      <td>1490</td>\n      <td>30</td>\n      <td>Private Sector/Self Employed</td>\n      <td>No</td>\n      <td>650000</td>\n      <td>4</td>\n      <td>0</td>\n      <td>No</td>\n      <td>No</td>\n      <td>0</td>\n    </tr>\n  </tbody>\n</table>\n<p>1490 rows × 10 columns</p>\n</div>",
            "text/plain": "      Customer  Age               Employment Type GraduateOrNot  AnnualIncome  \\\n0            1   33  Private Sector/Self Employed           Yes        550000   \n1            2   28  Private Sector/Self Employed           Yes        800000   \n2            3   31  Private Sector/Self Employed           Yes       1250000   \n3            4   31             Government Sector            No        300000   \n4            5   28  Private Sector/Self Employed           Yes       1250000   \n...        ...  ...                           ...           ...           ...   \n1485      1486   31             Government Sector            No        300000   \n1486      1487   31  Private Sector/Self Employed           Yes        950000   \n1487      1488   28  Private Sector/Self Employed           Yes       1250000   \n1488      1489   31             Government Sector           Yes       1300000   \n1489      1490   30  Private Sector/Self Employed            No        650000   \n\n      FamilyMembers  ChronicDiseases FrequentFlyer EverTravelledAbroad  \\\n0                 6                0            No                  No   \n1                 7                0           Yes                  No   \n2                 4                0            No                  No   \n3                 7                0            No                  No   \n4                 3                0            No                  No   \n...             ...              ...           ...                 ...   \n1485              5                0            No                  No   \n1486              3                0           Yes                  No   \n1487              5                0            No                  No   \n1488              5                0            No                  No   \n1489              4                0            No                  No   \n\n      TravelInsurance  \n0                   1  \n1                   0  \n2                   0  \n3                   0  \n4                   0  \n...               ...  \n1485                0  \n1486                0  \n1487                0  \n1488                0  \n1489                0  \n\n[1490 rows x 10 columns]"
          },
          "execution_count": 2,
          "metadata": {},
          "output_type": "execute_result"
        }
      ],
      "source": [
        "train_df"
      ]
    },
    {
      "cell_type": "code",
      "execution_count": 3,
      "metadata": {
        "colab": {
          "base_uri": "https://localhost:8080/",
          "height": 424
        },
        "id": "kilOphhsdeRm",
        "outputId": "c02d1b23-0ffc-4e0d-9c6f-2bf0cf815b25"
      },
      "outputs": [
        {
          "data": {
            "text/html": "<div>\n<style scoped>\n    .dataframe tbody tr th:only-of-type {\n        vertical-align: middle;\n    }\n\n    .dataframe tbody tr th {\n        vertical-align: top;\n    }\n\n    .dataframe thead th {\n        text-align: right;\n    }\n</style>\n<table border=\"1\" class=\"dataframe\">\n  <thead>\n    <tr style=\"text-align: right;\">\n      <th></th>\n      <th>Customer</th>\n      <th>Age</th>\n      <th>Employment Type</th>\n      <th>GraduateOrNot</th>\n      <th>AnnualIncome</th>\n      <th>FamilyMembers</th>\n      <th>ChronicDiseases</th>\n      <th>FrequentFlyer</th>\n      <th>EverTravelledAbroad</th>\n    </tr>\n  </thead>\n  <tbody>\n    <tr>\n      <th>0</th>\n      <td>1491</td>\n      <td>29</td>\n      <td>Private Sector/Self Employed</td>\n      <td>Yes</td>\n      <td>1100000</td>\n      <td>4</td>\n      <td>0</td>\n      <td>No</td>\n      <td>No</td>\n    </tr>\n    <tr>\n      <th>1</th>\n      <td>1492</td>\n      <td>28</td>\n      <td>Private Sector/Self Employed</td>\n      <td>Yes</td>\n      <td>750000</td>\n      <td>5</td>\n      <td>1</td>\n      <td>Yes</td>\n      <td>No</td>\n    </tr>\n    <tr>\n      <th>2</th>\n      <td>1493</td>\n      <td>31</td>\n      <td>Government Sector</td>\n      <td>Yes</td>\n      <td>1500000</td>\n      <td>4</td>\n      <td>0</td>\n      <td>Yes</td>\n      <td>Yes</td>\n    </tr>\n    <tr>\n      <th>3</th>\n      <td>1494</td>\n      <td>28</td>\n      <td>Private Sector/Self Employed</td>\n      <td>Yes</td>\n      <td>1400000</td>\n      <td>3</td>\n      <td>0</td>\n      <td>No</td>\n      <td>Yes</td>\n    </tr>\n    <tr>\n      <th>4</th>\n      <td>1495</td>\n      <td>33</td>\n      <td>Private Sector/Self Employed</td>\n      <td>Yes</td>\n      <td>1500000</td>\n      <td>4</td>\n      <td>0</td>\n      <td>Yes</td>\n      <td>Yes</td>\n    </tr>\n    <tr>\n      <th>...</th>\n      <td>...</td>\n      <td>...</td>\n      <td>...</td>\n      <td>...</td>\n      <td>...</td>\n      <td>...</td>\n      <td>...</td>\n      <td>...</td>\n      <td>...</td>\n    </tr>\n    <tr>\n      <th>492</th>\n      <td>1983</td>\n      <td>33</td>\n      <td>Government Sector</td>\n      <td>Yes</td>\n      <td>1750000</td>\n      <td>6</td>\n      <td>0</td>\n      <td>No</td>\n      <td>No</td>\n    </tr>\n    <tr>\n      <th>493</th>\n      <td>1984</td>\n      <td>25</td>\n      <td>Private Sector/Self Employed</td>\n      <td>No</td>\n      <td>1150000</td>\n      <td>3</td>\n      <td>1</td>\n      <td>No</td>\n      <td>No</td>\n    </tr>\n    <tr>\n      <th>494</th>\n      <td>1985</td>\n      <td>29</td>\n      <td>Private Sector/Self Employed</td>\n      <td>Yes</td>\n      <td>1050000</td>\n      <td>5</td>\n      <td>0</td>\n      <td>No</td>\n      <td>No</td>\n    </tr>\n    <tr>\n      <th>495</th>\n      <td>1986</td>\n      <td>25</td>\n      <td>Government Sector</td>\n      <td>Yes</td>\n      <td>750000</td>\n      <td>2</td>\n      <td>0</td>\n      <td>No</td>\n      <td>Yes</td>\n    </tr>\n    <tr>\n      <th>496</th>\n      <td>1987</td>\n      <td>27</td>\n      <td>Government Sector</td>\n      <td>Yes</td>\n      <td>1050000</td>\n      <td>3</td>\n      <td>0</td>\n      <td>No</td>\n      <td>No</td>\n    </tr>\n  </tbody>\n</table>\n<p>497 rows × 9 columns</p>\n</div>",
            "text/plain": "     Customer  Age               Employment Type GraduateOrNot  AnnualIncome  \\\n0        1491   29  Private Sector/Self Employed           Yes       1100000   \n1        1492   28  Private Sector/Self Employed           Yes        750000   \n2        1493   31             Government Sector           Yes       1500000   \n3        1494   28  Private Sector/Self Employed           Yes       1400000   \n4        1495   33  Private Sector/Self Employed           Yes       1500000   \n..        ...  ...                           ...           ...           ...   \n492      1983   33             Government Sector           Yes       1750000   \n493      1984   25  Private Sector/Self Employed            No       1150000   \n494      1985   29  Private Sector/Self Employed           Yes       1050000   \n495      1986   25             Government Sector           Yes        750000   \n496      1987   27             Government Sector           Yes       1050000   \n\n     FamilyMembers  ChronicDiseases FrequentFlyer EverTravelledAbroad  \n0                4                0            No                  No  \n1                5                1           Yes                  No  \n2                4                0           Yes                 Yes  \n3                3                0            No                 Yes  \n4                4                0           Yes                 Yes  \n..             ...              ...           ...                 ...  \n492              6                0            No                  No  \n493              3                1            No                  No  \n494              5                0            No                  No  \n495              2                0            No                 Yes  \n496              3                0            No                  No  \n\n[497 rows x 9 columns]"
          },
          "execution_count": 3,
          "metadata": {},
          "output_type": "execute_result"
        }
      ],
      "source": [
        "test_df"
      ]
    },
    {
      "cell_type": "code",
      "execution_count": 4,
      "metadata": {
        "id": "xyu6bcj9d9gg"
      },
      "outputs": [],
      "source": [
        "# Delete customer id and separate target labels from the features\n",
        "seed = 0\n",
        "X_train_total = train_df.drop([\"Customer\",\"TravelInsurance\"], axis=1)\n",
        "y_train_total = train_df[\"TravelInsurance\"]\n",
        "\n",
        "X_train, X_val, y_train, y_val = train_test_split(X_train_total,\n",
        "                                                  y_train_total,\n",
        "                                                  test_size=0.2,\n",
        "                                                  random_state=seed)\n",
        "\n",
        "X_test = test_df.drop([\"Customer\"], axis=1)"
      ]
    },
    {
      "cell_type": "code",
      "execution_count": 5,
      "metadata": {
        "id": "hKICWxkBdflw"
      },
      "outputs": [
        {
          "name": "stderr",
          "output_type": "stream",
          "text": [
            "/home/benjamin/.local/lib/python3.8/site-packages/sklearn/preprocessing/_discretization.py:220: UserWarning: Bins whose width are too small (i.e., <= 1e-8) in feature 0 are removed. Consider decreasing the number of bins.\n",
            "  warnings.warn('Bins whose width are too small (i.e., <= '\n",
            "/home/benjamin/.local/lib/python3.8/site-packages/sklearn/preprocessing/_discretization.py:220: UserWarning: Bins whose width are too small (i.e., <= 1e-8) in feature 1 are removed. Consider decreasing the number of bins.\n",
            "  warnings.warn('Bins whose width are too small (i.e., <= '\n"
          ]
        }
      ],
      "source": [
        "# Define pipeline that discretizes columns Age and AnnaulIncome, and encode the\n",
        "# rest of variables using an ohe approach\n",
        "preprocessor = ColumnTransformer(\n",
        "    [(\"discretizer\",\n",
        "      KBinsDiscretizer(n_bins=16, encode=\"ordinal\",\n",
        "                       strategy=\"quantile\"), [\"Age\", \"AnnualIncome\"]),\n",
        "     (\"encoder\",\n",
        "      OneHotEncoder(categories=\"auto\", dtype=\"int\", handle_unknown=\"ignore\"), [\n",
        "          \"Employment Type\", \"GraduateOrNot\", \"FamilyMembers\", \"FrequentFlyer\",\n",
        "          \"EverTravelledAbroad\"\n",
        "      ])],\n",
        "    remainder=\"passthrough\")\n",
        "\n",
        "X_train = preprocessor.fit_transform(X_train)\n",
        "X_val = preprocessor.transform(X_val)\n",
        "X_test = preprocessor.transform(X_test)\n"
      ]
    },
    {
      "cell_type": "markdown",
      "metadata": {
        "id": "RzQBFD5aclef"
      },
      "source": [
        "## Modelo con AutoML\n",
        "\n"
      ]
    },
    {
      "cell_type": "code",
      "execution_count": 6,
      "metadata": {
        "colab": {
          "base_uri": "https://localhost:8080/",
          "height": 381
        },
        "id": "60me9fVvoxiD",
        "outputId": "bba60f42-d3f3-47fc-fca4-07e759fc2721"
      },
      "outputs": [
        {
          "name": "stdout",
          "output_type": "stream",
          "text": [
            "[WARNING] [2021-12-09 08:43:49,683:Client-Validation] AutoPyTorch previously received features of type <class 'numpy.ndarray'> yet the current features have type <class 'pandas.core.frame.DataFrame'>. Changing the dtype of inputs to an estimator might cause problems\n",
            "[WARNING] [2021-12-09 08:43:49,703:Client-Validation] AutoPyTorch previously received features of type <class 'numpy.ndarray'> yet the current features have type <class 'pandas.core.frame.DataFrame'>. Changing the dtype of inputs to an estimator might cause problems\n"
          ]
        },
        {
          "name": "stderr",
          "output_type": "stream",
          "text": [
            "/home/benjamin/miniconda3/envs/auto-pytorch/lib/python3.8/site-packages/smac-0.14.0-py3.8.egg/smac/intensification/parallel_scheduling.py:149: UserWarning: Hyperband is intended to be used with more than 1 worker but num_workers=1\n",
            "  warnings.warn(\"{} is intended to be used \"\n",
            "/home/benjamin/miniconda3/envs/auto-pytorch/lib/python3.8/site-packages/smac-0.14.0-py3.8.egg/smac/intensification/parallel_scheduling.py:149: UserWarning: Hyperband is intended to be used with more than 1 worker but num_workers=1\n",
            "  warnings.warn(\"{} is intended to be used \"\n",
            "/home/benjamin/miniconda3/envs/auto-pytorch/lib/python3.8/site-packages/smac-0.14.0-py3.8.egg/smac/intensification/parallel_scheduling.py:149: UserWarning: Hyperband is intended to be used with more than 1 worker but num_workers=1\n",
            "  warnings.warn(\"{} is intended to be used \"\n",
            "/home/benjamin/miniconda3/envs/auto-pytorch/lib/python3.8/site-packages/smac-0.14.0-py3.8.egg/smac/intensification/parallel_scheduling.py:149: UserWarning: Hyperband is intended to be used with more than 1 worker but num_workers=1\n",
            "  warnings.warn(\"{} is intended to be used \"\n",
            "/home/benjamin/miniconda3/envs/auto-pytorch/lib/python3.8/site-packages/smac-0.14.0-py3.8.egg/smac/intensification/parallel_scheduling.py:149: UserWarning: Hyperband is intended to be used with more than 1 worker but num_workers=1\n",
            "  warnings.warn(\"{} is intended to be used \"\n",
            "/home/benjamin/miniconda3/envs/auto-pytorch/lib/python3.8/site-packages/smac-0.14.0-py3.8.egg/smac/intensification/parallel_scheduling.py:149: UserWarning: Hyperband is intended to be used with more than 1 worker but num_workers=1\n",
            "  warnings.warn(\"{} is intended to be used \"\n",
            "/home/benjamin/miniconda3/envs/auto-pytorch/lib/python3.8/site-packages/smac-0.14.0-py3.8.egg/smac/intensification/parallel_scheduling.py:149: UserWarning: Hyperband is intended to be used with more than 1 worker but num_workers=1\n",
            "  warnings.warn(\"{} is intended to be used \"\n",
            "/home/benjamin/miniconda3/envs/auto-pytorch/lib/python3.8/site-packages/smac-0.14.0-py3.8.egg/smac/intensification/parallel_scheduling.py:149: UserWarning: Hyperband is intended to be used with more than 1 worker but num_workers=1\n",
            "  warnings.warn(\"{} is intended to be used \"\n",
            "/home/benjamin/miniconda3/envs/auto-pytorch/lib/python3.8/site-packages/smac-0.14.0-py3.8.egg/smac/intensification/parallel_scheduling.py:149: UserWarning: Hyperband is intended to be used with more than 1 worker but num_workers=1\n",
            "  warnings.warn(\"{} is intended to be used \"\n",
            "/home/benjamin/miniconda3/envs/auto-pytorch/lib/python3.8/site-packages/smac-0.14.0-py3.8.egg/smac/intensification/parallel_scheduling.py:149: UserWarning: Hyperband is intended to be used with more than 1 worker but num_workers=1\n",
            "  warnings.warn(\"{} is intended to be used \"\n",
            "/home/benjamin/miniconda3/envs/auto-pytorch/lib/python3.8/site-packages/smac-0.14.0-py3.8.egg/smac/intensification/parallel_scheduling.py:149: UserWarning: Hyperband is intended to be used with more than 1 worker but num_workers=1\n",
            "  warnings.warn(\"{} is intended to be used \"\n",
            "/home/benjamin/miniconda3/envs/auto-pytorch/lib/python3.8/site-packages/smac-0.14.0-py3.8.egg/smac/intensification/parallel_scheduling.py:149: UserWarning: Hyperband is intended to be used with more than 1 worker but num_workers=1\n",
            "  warnings.warn(\"{} is intended to be used \"\n",
            "/home/benjamin/miniconda3/envs/auto-pytorch/lib/python3.8/site-packages/smac-0.14.0-py3.8.egg/smac/intensification/parallel_scheduling.py:149: UserWarning: Hyperband is intended to be used with more than 1 worker but num_workers=1\n",
            "  warnings.warn(\"{} is intended to be used \"\n",
            "/home/benjamin/miniconda3/envs/auto-pytorch/lib/python3.8/site-packages/smac-0.14.0-py3.8.egg/smac/intensification/parallel_scheduling.py:149: UserWarning: Hyperband is intended to be used with more than 1 worker but num_workers=1\n",
            "  warnings.warn(\"{} is intended to be used \"\n",
            "/home/benjamin/miniconda3/envs/auto-pytorch/lib/python3.8/site-packages/smac-0.14.0-py3.8.egg/smac/intensification/parallel_scheduling.py:149: UserWarning: Hyperband is intended to be used with more than 1 worker but num_workers=1\n",
            "  warnings.warn(\"{} is intended to be used \"\n"
          ]
        },
        {
          "name": "stdout",
          "output_type": "stream",
          "text": [
            "{'f1': 0.6349206349206349}\n",
            "|    | Preprocessing                                                 | Estimator                                                       |   Weight |\n",
            "|---:|:--------------------------------------------------------------|:----------------------------------------------------------------|---------:|\n",
            "|  0 | SimpleImputer,NoEncoder,MinMaxScaler,KernelPCA                | no embedding,ShapedMLPBackbone,FullyConnectedHead,nn.Sequential |     0.22 |\n",
            "|  1 | SimpleImputer,NoEncoder,Normalizer,TruncSVD                   | no embedding,MLPBackbone,FullyConnectedHead,nn.Sequential       |     0.18 |\n",
            "|  2 | None                                                          | RFLearner                                                       |     0.18 |\n",
            "|  3 | SimpleImputer,NoEncoder,NoScaler,KitchenSink                  | no embedding,MLPBackbone,FullyConnectedHead,nn.Sequential       |     0.12 |\n",
            "|  4 | SimpleImputer,NoEncoder,StandardScaler,Nystroem               | no embedding,MLPBackbone,FullyConnectedHead,nn.Sequential       |     0.08 |\n",
            "|  5 | SimpleImputer,NoEncoder,StandardScaler,NoFeaturePreprocessing | no embedding,ShapedMLPBackbone,FullyConnectedHead,nn.Sequential |     0.06 |\n",
            "|  6 | None                                                          | CBLearner                                                       |     0.04 |\n",
            "|  7 | SimpleImputer,NoEncoder,StandardScaler,NoFeaturePreprocessing | no embedding,ShapedMLPBackbone,FullyConnectedHead,nn.Sequential |     0.04 |\n",
            "|  8 | SimpleImputer,NoEncoder,NoScaler,PolynomialFeatures           | no embedding,ShapedMLPBackbone,FullyConnectedHead,nn.Sequential |     0.02 |\n",
            "|  9 | SimpleImputer,NoEncoder,NoScaler,NoFeaturePreprocessing       | no embedding,MLPBackbone,FullyConnectedHead,nn.Sequential       |     0.02 |\n",
            "| 10 | None                                                          | LGBMLearner                                                     |     0.02 |\n",
            "| 11 | None                                                          | SVMLearner                                                      |     0.02 |\n",
            "autoPyTorch results:\n",
            "\tDataset name: travel_insurance\n",
            "\tOptimisation Metric: f1\n",
            "\tBest validation score: 0.689922480620155\n",
            "\tNumber of target algorithm runs: 24\n",
            "\tNumber of successful target algorithm runs: 21\n",
            "\tNumber of crashed target algorithm runs: 2\n",
            "\tNumber of target algorithms that exceeded the time limit: 1\n",
            "\tNumber of target algorithms that exceeded the memory limit: 0\n",
            "\n"
          ]
        }
      ],
      "source": [
        "from autoPyTorch.api.tabular_classification import TabularClassificationTask\n",
        "\n",
        "api = TabularClassificationTask(\n",
        "    seed=42,\n",
        ")\n",
        "\n",
        "api.search(\n",
        "    X_train=X_train,\n",
        "    y_train=y_train,\n",
        "    X_test=X_val.copy(),\n",
        "    y_test=y_val.copy(),\n",
        "    dataset_name='travel_insurance',\n",
        "    optimize_metric='f1',\n",
        "    total_walltime_limit=500,\n",
        "    func_eval_time_limit_secs=100\n",
        ")\n",
        "\n",
        "y_pred = api.predict(X_val)\n",
        "score = api.score(y_pred, y_val)\n",
        "print(score)\n",
        "print(api.show_models())\n",
        "print(api.sprint_statistics())"
      ]
    },
    {
      "cell_type": "code",
      "execution_count": 7,
      "metadata": {},
      "outputs": [
        {
          "name": "stdout",
          "output_type": "stream",
          "text": [
            "              precision    recall  f1-score   support\n",
            "\n",
            "           0       0.79      0.88      0.83       192\n",
            "           1       0.72      0.57      0.63       106\n",
            "\n",
            "    accuracy                           0.77       298\n",
            "   macro avg       0.75      0.72      0.73       298\n",
            "weighted avg       0.76      0.77      0.76       298\n",
            "\n"
          ]
        }
      ],
      "source": [
        "y_pred_val_automl = api.predict(X_val)\n",
        "print(classification_report(y_val, y_pred_val_automl))"
      ]
    },
    {
      "cell_type": "code",
      "execution_count": 8,
      "metadata": {},
      "outputs": [],
      "source": [
        "y_pred_test_automl = api.predict(X_test)"
      ]
    },
    {
      "cell_type": "code",
      "execution_count": 9,
      "metadata": {},
      "outputs": [],
      "source": [
        "save_predictions(api, test_df[\"Customer\"], X_test, \"autopytorch.csv\")"
      ]
    },
    {
      "cell_type": "markdown",
      "metadata": {},
      "source": [
        "## Modelo no automatizado"
      ]
    },
    {
      "cell_type": "code",
      "execution_count": 10,
      "metadata": {},
      "outputs": [
        {
          "name": "stdout",
          "output_type": "stream",
          "text": [
            "              precision    recall  f1-score   support\n",
            "\n",
            "           0       0.80      0.97      0.88       192\n",
            "           1       0.92      0.57      0.70       106\n",
            "\n",
            "    accuracy                           0.83       298\n",
            "   macro avg       0.86      0.77      0.79       298\n",
            "weighted avg       0.85      0.83      0.82       298\n",
            "\n"
          ]
        }
      ],
      "source": [
        "from xgboost import XGBClassifier\n",
        "\n",
        "parameters = {\n",
        "    'alpha': 0.6066724149261147,\n",
        "    'booster': 'gbtree',\n",
        "    'colsample_bytree': 1.0,\n",
        "    'eval_metric': 'logloss',\n",
        "    'gamma': 1.0,\n",
        "    'learning_rate': 1.0,\n",
        "    'max_depth': 4,\n",
        "    'n_estimators': 500,\n",
        "    'objective': 'binary:logistic',\n",
        "    'subsample': 1.0,\n",
        "    'use_label_encoder': False,\n",
        "}\n",
        "\n",
        "clf = XGBClassifier(**parameters)\n",
        "\n",
        "clf.fit(X_train, y_train)\n",
        "\n",
        "y_pred_val = clf.predict(X_val)\n",
        "y_pred_test = clf.predict(X_test)\n",
        "\n",
        "print(classification_report(y_val, y_pred_val))"
      ]
    },
    {
      "cell_type": "code",
      "execution_count": 11,
      "metadata": {},
      "outputs": [],
      "source": [
        "save_predictions(clf, test_df[\"Customer\"], X_test, \"xgb_no_automl.csv\")"
      ]
    },
    {
      "cell_type": "markdown",
      "metadata": {},
      "source": [
        "## Predicciones"
      ]
    },
    {
      "cell_type": "markdown",
      "metadata": {},
      "source": [
        "![kaggle results](scores.png)"
      ]
    },
    {
      "cell_type": "code",
      "execution_count": null,
      "metadata": {},
      "outputs": [],
      "source": []
    }
  ],
  "metadata": {
    "colab": {
      "collapsed_sections": [],
      "name": "automl.ipynb",
      "provenance": []
    },
    "kernelspec": {
      "display_name": "Python 3.8.12 64-bit ('auto-pytorch': conda)",
      "name": "python3812jvsc74a57bd00d0edd02e105dc11063e0eefb7ff3c609df3d9473f7f2bd179b3b55de456a5da"
    },
    "language_info": {
      "codemirror_mode": {
        "name": "ipython",
        "version": 3
      },
      "file_extension": ".py",
      "mimetype": "text/x-python",
      "name": "python",
      "nbconvert_exporter": "python",
      "pygments_lexer": "ipython3",
      "version": "3.8.12"
    },
    "metadata": {
      "interpreter": {
        "hash": "0d0edd02e105dc11063e0eefb7ff3c609df3d9473f7f2bd179b3b55de456a5da"
      }
    }
  },
  "nbformat": 4,
  "nbformat_minor": 0
}